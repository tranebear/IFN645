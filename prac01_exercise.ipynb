{
 "cells": [
  {
   "cell_type": "markdown",
   "metadata": {},
   "source": [
    "# Exercise 1: Basic Dataset Manipulation and Problem Definition\n",
    "\n",
    "---\n",
    "**Written by Hendi Lie (h2.lie@qut.edu.au) and Richi Nayak (r.nayak@qut.edu.au). All rights reserved.**\n",
    "\n",
    "Welcome to the first practical exercise for IFN645. Each exercise sheet contains a number of theoretical and programming exercises, designed to strengthen both conceptual and practical understanding of data mining processes in this unit.\n",
    "\n",
    "To answer conceptual questions, write the answer to each question on a paper/note with your reasoning. For programming exercises, open your iPython console/Jupyter notebook and use Python commands/libraries introduced in each practical to answer the questions. In many cases, you will need to write code to support your conceptual answers."
   ]
  },
  {
   "cell_type": "markdown",
   "metadata": {},
   "source": [
    "## 1. Importing libraries and reading dataset\n",
    "\n",
    "Answer the following questions:\n",
    "1. Please name two libraries commonly used for data visualisation in Python.\n",
    "2. What library do we use for predictive modelling in this unit?\n",
    "3. Please name the steps commonly used in performing predictive mining using Python.\n",
    "\n",
    "Perform the following operations:\n",
    "1. Import pandas library as \"pd\".\n",
    "import pandas as pd\n",
    "\n",
    "2. Load the dataset into dataframe variable \"df\". For all predictive modeling exercises, we will use Melbourne house price prediction dataset (\"datasets/melbourne_house_price.csv\").\n",
    "df = pd.read_csv('datasets/melbourne_house_price.csv')\n",
    "\n",
    "Tips: use `index_col=0` parameter when reading the dataset to avoid creating an unnecessary index column. If you are not sure what this parameter does, read the dataset just as normally and then compare it with using `index_col`."
   ]
  },
  {
   "cell_type": "markdown",
   "metadata": {},
   "source": [
    "## 2. Data wrangling\n",
    "\n",
    "Perform the following operations:\n",
    "1. Print basic information from the dataset.\n",
    "\n",
    "Answer the following questions:\n",
    "1. How many columns are in the dataframe/dataset?\n",
    "22 columns\n",
    "\n",
    "2. How many rows/records are in the dataframe/dataset?\n",
    "24197 rows\n",
    "\n",
    "3. What is the data type of \"Distance\" column?\n",
    "float64\n",
    "\n",
    "4. We would like to predict if a house in Melbourne is priced very highly (above median). Which column is suitable as a target variable?\n",
    "Price_above_median column.\n",
    "\n",
    "5. How could stakeholders use insights gained from this data mining process?\n",
    "Use the variables to predict."
   ]
  },
  {
   "cell_type": "markdown",
   "metadata": {},
   "source": [
    "# Answer\n",
    "\n",
    "When you are finished with all exercise questions, the sample answers are available in the following Github repository. Remember, please try the exercises first before viewing the answers.\n",
    "\n",
    "https://github.com/liehendi11/IFN645_answers"
   ]
  },
  {
   "cell_type": "code",
   "execution_count": 1,
   "metadata": {},
   "outputs": [],
   "source": [
    "import pandas as pd"
   ]
  },
  {
   "cell_type": "code",
   "execution_count": 4,
   "metadata": {},
   "outputs": [],
   "source": [
    "df = pd.read_csv('datasets/melbourne_house_price.csv', index_col = 0)"
   ]
  },
  {
   "cell_type": "code",
   "execution_count": 5,
   "metadata": {},
   "outputs": [
    {
     "name": "stdout",
     "output_type": "stream",
     "text": [
      "<class 'pandas.core.frame.DataFrame'>\n",
      "Int64Index: 24197 entries, 0 to 24196\n",
      "Data columns (total 22 columns):\n",
      "Suburb                24197 non-null object\n",
      "Address               24197 non-null object\n",
      "Rooms                 24197 non-null int64\n",
      "Type                  24197 non-null object\n",
      "Price                 24197 non-null float64\n",
      "Method                24197 non-null object\n",
      "SellerG               24197 non-null object\n",
      "Date                  24197 non-null object\n",
      "Distance              24196 non-null float64\n",
      "Postcode              24196 non-null float64\n",
      "Bedroom2              18673 non-null float64\n",
      "Bathroom              18669 non-null float64\n",
      "Car                   18394 non-null float64\n",
      "Landsize              15946 non-null float64\n",
      "BuildingArea          9609 non-null float64\n",
      "YearBuilt             10961 non-null float64\n",
      "CouncilArea           24194 non-null object\n",
      "Lattitude             18843 non-null float64\n",
      "Longtitude            18843 non-null float64\n",
      "Regionname            24194 non-null object\n",
      "Propertycount         24194 non-null float64\n",
      "Price_above_median    24197 non-null int64\n",
      "dtypes: float64(12), int64(2), object(8)\n",
      "memory usage: 4.2+ MB\n",
      "None\n"
     ]
    }
   ],
   "source": [
    "print(df.info())"
   ]
  },
  {
   "cell_type": "code",
   "execution_count": 7,
   "metadata": {},
   "outputs": [
    {
     "data": {
      "text/plain": [
       " 11.2    0.044510\n",
       " 13.8    0.020705\n",
       " 9.2     0.018969\n",
       " 10.5    0.018845\n",
       " 7.8     0.018308\n",
       " 13.9    0.017729\n",
       " 5.2     0.017482\n",
       " 8.4     0.016159\n",
       " 11.4    0.015580\n",
       " 4.6     0.015415\n",
       " 13.0    0.015250\n",
       " 14.7    0.014878\n",
       " 6.4     0.014341\n",
       " 7.5     0.013762\n",
       " 9.7     0.013390\n",
       " 8.8     0.013349\n",
       " 8.0     0.011696\n",
       " 12.0    0.011654\n",
       " 2.6     0.011489\n",
       " 5.3     0.011448\n",
       " 5.9     0.011117\n",
       " 14.0    0.010662\n",
       " 12.1    0.010332\n",
       " 6.2     0.010001\n",
       " 7.7     0.010001\n",
       " 3.3     0.010001\n",
       " 7.0     0.009877\n",
       " 17.9    0.009795\n",
       " 12.4    0.009629\n",
       " 6.3     0.009340\n",
       "           ...   \n",
       " 27.1    0.000289\n",
       " 27.7    0.000248\n",
       " 17.6    0.000248\n",
       " 16.6    0.000248\n",
       " 48.1    0.000207\n",
       " 37.5    0.000207\n",
       " 33.3    0.000207\n",
       " 35.5    0.000165\n",
       " 3.7     0.000165\n",
       " 43.3    0.000124\n",
       " 47.4    0.000124\n",
       " 31.6    0.000124\n",
       " 29.9    0.000124\n",
       " 18.7    0.000083\n",
       " 33.8    0.000083\n",
       " 34.6    0.000083\n",
       " 23.6    0.000083\n",
       " 26.1    0.000083\n",
       " 39.0    0.000083\n",
       " 45.2    0.000083\n",
       " 39.8    0.000083\n",
       " 20.1    0.000083\n",
       " 43.4    0.000083\n",
       " 1.4     0.000083\n",
       " 22.9    0.000041\n",
       " 29.3    0.000041\n",
       " 30.4    0.000041\n",
       " 33.0    0.000041\n",
       " 31.4    0.000041\n",
       "NaN      0.000041\n",
       "Name: Distance, Length: 213, dtype: float64"
      ]
     },
     "execution_count": 7,
     "metadata": {},
     "output_type": "execute_result"
    }
   ],
   "source": [
    "df.Distance.value_counts(dropna=False, normalize = True)"
   ]
  },
  {
   "cell_type": "code",
   "execution_count": null,
   "metadata": {},
   "outputs": [],
   "source": []
  }
 ],
 "metadata": {
  "kernelspec": {
   "display_name": "Python 3",
   "language": "python",
   "name": "python3"
  },
  "language_info": {
   "codemirror_mode": {
    "name": "ipython",
    "version": 3
   },
   "file_extension": ".py",
   "mimetype": "text/x-python",
   "name": "python",
   "nbconvert_exporter": "python",
   "pygments_lexer": "ipython3",
   "version": "3.6.4"
  }
 },
 "nbformat": 4,
 "nbformat_minor": 2
}
