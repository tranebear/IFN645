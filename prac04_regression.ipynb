{
 "cells": [
  {
   "cell_type": "markdown",
   "metadata": {},
   "source": [
    "# Practical 4: Regression Mining\n",
    "\n",
    "### In this practical\n",
    "1. [Resuming from practical 3](#resume)\n",
    "2. [Building your first logistic regression model](#build)\n",
    "3. [Understanding your logistic regression model](#viz)\n",
    "4. [Finding optimal hyperparameters with GridSearchCV](#gridsearch)\n",
    "5. [Feature selection](#fselect)\n",
    "\n",
    "---\n",
    "\n",
    "**Written by Hendi Lie (h2.lie@qut.edu.au) and Richi Nayak (r.nayak@qut.edu.au). All rights reserved.**\n",
    "\n",
    "This practical note introduces you to regression mining in Python. Regressions offer a different approach to predictive mining as compared to decision trees. As parametric models, they assume a specific association structure between inputs and target. This relationship can generally be represented by linear mathematical formula, which is used to classify/predict the target value. In contrast, decision trees do not assume any association structure; they simply seek to isolate concentrations of cases with like-valued targets.\n",
    "\n",
    "In this practical, we will focus on logistic regression. Logistic regression is a class of regression model for classification task. It is similar in structure with linear regression, yet to make a classification prediction, transform the prediction value using logistic function. This practical will cover the key mathematical concepts of weights, logistic function and cost function of logistic regressions.\n",
    "\n",
    "You will continue to use the **Veteran** dataset that you had prepared in practical 2.\n",
    "\n",
    "## 1. Resuming from practical 3 <a name=\"resume\"></a>\n",
    "\n",
    "We will reuse code for data preprocessing from practical 2 and data partitioning from practical 3."
   ]
  },
  {
   "cell_type": "code",
   "execution_count": null,
   "metadata": {},
   "outputs": [],
   "source": [
    "import pandas as pd\n",
    "import numpy as np \n",
    "from sklearn.model_selection import train_test_split \n",
    "from sklearn.metrics import classification_report, accuracy_score \n",
    "from sklearn.model_selection import GridSearchCV \n",
    "from dm_tools import data_prep\n",
    "\n",
    "# preprocessing step\n",
    "df = data_prep()\n",
    "\n",
    "# set the random seed - consistent\n",
    "rs = 10\n",
    "\n",
    "# train test split\n",
    "y = df['TargetB']\n",
    "X = df.drop(['TargetB'], axis=1)\n",
    "X_mat = X.as_matrix()\n",
    "X_train, X_test, y_train, y_test = train_test_split(X_mat, y, test_size=0.3, stratify=y, random_state=rs)"
   ]
  },
  {
   "cell_type": "markdown",
   "metadata": {},
   "source": [
    "## 2. Building the logistic regression model<a name=\"build\"></a>\n",
    "\n",
    "### 2.1. Standardisation\n",
    "\n",
    "Most machine learning/data mining algorithms, including regression models, are\n",
    "sensitive to input variables on different scales. Input variables on different\n",
    "scales makes comparison between data points difficult. (Recall the lecture\n",
    "example of two variables with different scaled values: student grade (in the\n",
    "range of 1-4) and student age (\\~20-65)). In addition, it also adversely affects **gradient descent** (an algorithm used for training models such as regressions, neural networks, Support Vector Machines, etc) by making weights on larger scale inputs to update much faster than smaller scale inputs, resulting in suboptimal model performance.\n",
    "\n",
    "> To read more about feature scaling, read this excellent blog post from Sebastian Raschka [link](http://sebastianraschka.com/Articles/2014_about_feature_scaling.html)\n",
    "\n",
    "To avoid this problem, it is necessary to perform standardisation on the input variables. Standardisation rescale input variables to have mean of 0 and standard deviation of 1, ensuring all of them are on the same scale. In `sklearn`, standardisation can easily be done using `StandardScaler`."
   ]
  },
  {
   "cell_type": "code",
   "execution_count": null,
   "metadata": {},
   "outputs": [],
   "source": [
    "from sklearn.preprocessing import StandardScaler\n",
    "\n",
    "# initialise a standard scaler object\n",
    "scaler = StandardScaler()\n",
    "\n",
    "# visualise min, max, mean and standard dev of data before scaling\n",
    "print(\"Before scaling\\n-------------\")\n",
    "for i in range(5):\n",
    "    col = X_train[:,i]\n",
    "    print(\"Variable #{}: min {}, max {}, mean {:.2f} and std dev {:.2f}\".\n",
    "          format(i, min(col), max(col), np.mean(col), np.std(col)))\n",
    "\n",
    "# learn the mean and std.dev of variables from training data\n",
    "# then use the learned values to transform training data\n",
    "X_train = scaler.fit_transform(X_train, y_train)\n",
    "\n",
    "print(\"After scaling\\n-------------\")\n",
    "for i in range(5):\n",
    "    col = X_train[:,i]\n",
    "    print(\"Variable #{}: min {}, max {}, mean {:.2f} and std dev {:.2f}\".\n",
    "          format(i, min(col), max(col), np.mean(col), np.std(col)))\n",
    "\n",
    "# use the statistic that you learned from training to transform test data\n",
    "# NEVER learn from test data, this is supposed to be a set of dataset\n",
    "# that the model has never seen before\n",
    "X_test = scaler.transform(X_test)"
   ]
  },
  {
   "cell_type": "markdown",
   "metadata": {},
   "source": [
    "### 2.2. Training logistic regression\n",
    "\n",
    "Once the input variables are scaled, we are ready to build the model. As\n",
    "discussed before, the underlying problem is classification predictive mining,\n",
    "therefore, a logistic regression model will be build for this classification\n",
    "task. In sklearn, logistic regression is implemented in\n",
    "`sklearn.linear_model.LogisticRegression`."
   ]
  },
  {
   "cell_type": "code",
   "execution_count": 3,
   "metadata": {},
   "outputs": [],
   "source": [
    "from sklearn.linear_model import LogisticRegression"
   ]
  },
  {
   "cell_type": "markdown",
   "metadata": {},
   "source": [
    "Similar to decision tree, initiate a model object (with random state to ensure consistent result) and fit it to the training dataset. "
   ]
  },
  {
   "cell_type": "code",
   "execution_count": 4,
   "metadata": {},
   "outputs": [
    {
     "data": {
      "text/plain": [
       "LogisticRegression(C=1.0, class_weight=None, dual=False, fit_intercept=True,\n",
       "          intercept_scaling=1, max_iter=100, multi_class='ovr', n_jobs=1,\n",
       "          penalty='l2', random_state=10, solver='liblinear', tol=0.0001,\n",
       "          verbose=0, warm_start=False)"
      ]
     },
     "execution_count": 4,
     "metadata": {},
     "output_type": "execute_result"
    }
   ],
   "source": [
    "model = LogisticRegression(random_state=rs)\n",
    "\n",
    "# fit it to training data\n",
    "model.fit(X_train, y_train)"
   ]
  },
  {
   "cell_type": "markdown",
   "metadata": {},
   "source": [
    "After the model is trained, evaluate the performance of the model on both training and test dataset."
   ]
  },
  {
   "cell_type": "code",
   "execution_count": 5,
   "metadata": {},
   "outputs": [
    {
     "name": "stdout",
     "output_type": "stream",
     "text": [
      "Train accuracy: 0.5935103244837758\n",
      "Test accuracy: 0.5622849277357193\n",
      "             precision    recall  f1-score   support\n",
      "\n",
      "          0       0.56      0.57      0.57      1453\n",
      "          1       0.56      0.55      0.56      1453\n",
      "\n",
      "avg / total       0.56      0.56      0.56      2906\n",
      "\n"
     ]
    }
   ],
   "source": [
    "# training and test accuracy\n",
    "print(\"Train accuracy:\", model.score(X_train, y_train))\n",
    "print(\"Test accuracy:\", model.score(X_test, y_test))\n",
    "\n",
    "# classification report on test data\n",
    "y_pred = model.predict(X_test)\n",
    "print(classification_report(y_test, y_pred))"
   ]
  },
  {
   "cell_type": "markdown",
   "metadata": {},
   "source": [
    "The model produces an acceptable accuracy score on the test data. The training accuracy is still slightly higher than the test accuracy, which indicates slight overfitting. We will tune this logistic regression model later using GridSearchCV.\n",
    "\n",
    "## 3. Understanding your logistic regression model\n",
    "\n",
    "Take a deeper look on the model we just built. Firstly, let's go over how logistic regression models makes predictions. \n",
    "\n",
    "Recall, the task is to predict whether a person with data (input variables) $x$ will be a lapsing donor. The target is $y$, which is a binary variable where 0 = non-lapsing donor and 1 = lapsing donor. Logistic regression will predict the target variable $y$ using function $g(\\theta, x)$ as following:\n",
    "\n",
    "$$h(\\theta, x) = \\theta_{0} + \\theta_{1}x_{1} + \\theta_{2}x_{2} + \\theta_{3}x_{3} + ... + \\theta_{N}x_{N}$$\n",
    "\n",
    "$$g(\\theta, x) = \\frac{1}{1 + e^{h(\\theta, x)}}$$\n",
    "\n",
    "$$y = target$$\n",
    "$$x = input$$\n",
    "$$\\theta = weights$$\n",
    "\n",
    "$h(\\theta, x)$ is also commonly known as linear regression. The difference between logistic and linear regression is the function $g(\\theta, x)$, also called **logistic/sigmoid** function. It transforms $h(\\theta,x)$ into range of 0.0 to 1.0, which roughly translates to probability of $y = 1$ (positive, lapsing donor) given $x$. Sigmoid outputs smaller than 0.5 will be classified as 0 and the rest as 1. The output curve of $g(\\theta, x)$ looks like this:\n",
    "\n",
    "![logistic curve](http://dataminingtuts.s3.amazonaws.com/Logistic-curve.svg.png)\n",
    "\n",
    "During the training process, the model tries to learn the optimal values of $\\theta$ that results in the most accurate prediction. The algorithm used to find the optimal set of $\\theta$ is called **optimisation algorithm**. Some examples of optimisation algorithm including gradient descent (most common and simple), LBFGS, adam, sag and newton-cg. These algorithms aim to minimise the **cost function**, which is the measure of how good predictions made by a model to the supplied $y_{train}$. Given weights of $\\theta$, training set $X$ and $y$ with $m$ data points, the cost function $J(\\theta)$ of a logistic regression is as follows:\n",
    "\n",
    "$$J(\\theta) = -\\frac{1}{m}[\\sum_{i=1}^{m} y^{(i)} \\log h_{\\theta}(x^{(i)}) + (1-y^{(i)}) \\log (1-h_{\\theta}(x^{(i)}))]$$\n",
    "\n",
    "Once the model is trained, all of its weights are stored in `.coef_` array of the model."
   ]
  },
  {
   "cell_type": "code",
   "execution_count": null,
   "metadata": {},
   "outputs": [],
   "source": [
    "print(model.coef_)"
   ]
  },
  {
   "cell_type": "markdown",
   "metadata": {},
   "source": [
    "Each of these values corresponds to a variable/feature in our dataset. We could print out feature name associated with each coefficient with this code below."
   ]
  },
  {
   "cell_type": "code",
   "execution_count": 7,
   "metadata": {},
   "outputs": [
    {
     "name": "stdout",
     "output_type": "stream",
     "text": [
      "GiftCnt36 : 0.08552948193516947\n",
      "GiftCntAll : 0.057290576435774045\n",
      "GiftCntCard36 : 0.09602623603523726\n",
      "GiftCntCardAll : -0.07682680363608209\n",
      "GiftAvgLast : -0.05033176383186588\n",
      "GiftAvg36 : -0.039942998201834286\n",
      "GiftAvgAll : 0.07375646123154629\n",
      "GiftAvgCard36 : -0.05930713749119237\n",
      "GiftTimeLast : -0.16833272253237708\n",
      "GiftTimeFirst : 0.2804476485075328\n",
      "PromCnt12 : -0.13986483628630772\n",
      "PromCnt36 : 0.050613998282111314\n",
      "PromCntAll : 0.19782012741923985\n",
      "PromCntCard12 : 0.04778419148279742\n",
      "PromCntCard36 : 0.09494982421661088\n",
      "PromCntCardAll : -0.43851255905848474\n",
      "StatusCatStarAll : 0.11004787142872036\n",
      "DemAge : 0.0551011404105965\n",
      "DemHomeOwner : 0.027000444465008322\n",
      "DemMedHomeValue : 0.12585620936003922\n"
     ]
    }
   ],
   "source": [
    "feature_names = X.columns\n",
    "coef = model.coef_[0]\n",
    "\n",
    "# limit to 20 features, you can comment the following line to print out everything\n",
    "coef = coef[:20]\n",
    "\n",
    "for i in range(len(coef)):\n",
    "    print(feature_names[i], ':', coef[i])"
   ]
  },
  {
   "cell_type": "markdown",
   "metadata": {},
   "source": [
    "Recall again that a linear/logistic regression model assumes linear correlation between input features and prediction values. This relationship is reflected in the weight values.\n",
    "* Positive coefficient means positive change in the input feature has positive correlation to the prediction value. **DemAge** has positive coefficients, which means older donors (larger age value) are predicted to be more likely to donate back.\n",
    "\n",
    "* Negative coefficient does the reverse. For example, **GiftTimeLast** has negative coefficient, thus if a donor has not donated for a while, the model predicts it is less likely for them to be a lapsing donor.\n",
    "\n",
    "In addition to understanding positive/negative correlations between features and prediction values, it is important to learn how much a feature impact the overall prediction value (i.e. feature importance). One way to answer this question is by looking at the absolute value of coefficients. Changes in an important variable (either positive or negative) should correlate to a larger impact to prediction value, thus the coefficient assigned to this variable will have a large absolute value. \n",
    "\n",
    "This method only applies when the features are standard scaled. Without scaling, each feature can be on different range of values, making larger ranged feature more important by default. For example, in a dataset with **age** and **income**, a **+10** increase in age is significant, but it is meaningless in income. In this scenario, without scaling the coefficients do not help in finding important variables.\n",
    "\n",
    "The following code will sort the coefficients by their largest absolute value and print the corresponding feature names."
   ]
  },
  {
   "cell_type": "code",
   "execution_count": 8,
   "metadata": {},
   "outputs": [
    {
     "name": "stdout",
     "output_type": "stream",
     "text": [
      "PromCntCardAll : -0.43851255905848474\n",
      "GiftTimeFirst : 0.2804476485075328\n",
      "PromCntAll : 0.19782012741923985\n",
      "GiftTimeLast : -0.16833272253237708\n",
      "PromCnt12 : -0.13986483628630772\n",
      "DemMedHomeValue : 0.12585620936003922\n",
      "StatusCatStarAll : 0.11004787142872036\n",
      "GiftCntCard36 : 0.09602623603523726\n",
      "PromCntCard36 : 0.09494982421661088\n",
      "GiftCnt36 : 0.08552948193516947\n",
      "StatusCat96NK_E : 0.07764783220730546\n",
      "GiftCntCardAll : -0.07682680363608209\n",
      "GiftAvgAll : 0.07375646123154629\n",
      "GiftAvgCard36 : -0.05930713749119237\n",
      "GiftCntAll : 0.057290576435774045\n",
      "DemAge : 0.0551011404105965\n",
      "DemCluster_47 : -0.052835847813307045\n",
      "DemCluster_10 : -0.051878252493531646\n",
      "DemCluster_30 : -0.051188895697830736\n",
      "PromCnt36 : 0.050613998282111314\n"
     ]
    }
   ],
   "source": [
    "# grab feature importances from the model and feature name from the original X\n",
    "coef = model.coef_[0]\n",
    "feature_names = X.columns\n",
    "\n",
    "# sort them out in descending order\n",
    "indices = np.argsort(np.absolute(coef))\n",
    "indices = np.flip(indices, axis=0)\n",
    "\n",
    "# limit to 20 features, you can leave this out to print out everything\n",
    "indices = indices[:20]\n",
    "\n",
    "for i in indices:\n",
    "    print(feature_names[i], ':', coef[i])"
   ]
  },
  {
   "cell_type": "markdown",
   "metadata": {},
   "source": [
    "Based on this output, the most important variables in this model is PromCntCardAll, GiftTimeFirst, and PromCntAll. These important variables will be different from one model to another."
   ]
  },
  {
   "cell_type": "markdown",
   "metadata": {},
   "source": [
    "## 4. Finding optimal hyperparameters with GridSearchCV\n",
    "\n",
    "Similar to the previous practical, this section will guide you to tune the default model to perform better. In this example, we will only tune one hyperparameter from our logistic regression model, the regularisation strength used in the model. Regularisation is a technique used to prevent overfitting in regression models. We will not go in depth to explain how regularisation works, you can find more information here:\n",
    "* [Basic of regularisation](https://www.quora.com/What-is-regularization-in-machine-learning)\n",
    "* [L1 vs L2 regularisation](http://www.chioka.in/differences-between-l1-and-l2-as-loss-function-and-regularization/)\n",
    "\n",
    "In `sklearn` logistic regression, regularisation is implemented in the hyperparameter **C**, which denotes the inverse of regularisation strength. Smaller C means stronger regularisation. Typical values for C range from $10^{-6}$ to $10^{4}$, increasing in logarithmic order, which are the values we will use in this example.\n",
    "\n",
    "**Tips:** `GridSearchCV` can be slow for searching over a large set of possible values. To speed up the searching process, `GridSearchCV` has parallel running capability, where you can specify how many parallel processes running in the same time with `n_jobs` (-1 means GridSearchCV will use as many cores as possible)."
   ]
  },
  {
   "cell_type": "code",
   "execution_count": null,
   "metadata": {},
   "outputs": [],
   "source": [
    "# grid search CV\n",
    "params = {'C': [pow(10, x) for x in range(-6, 4)]}\n",
    "\n",
    "# use all cores to tune logistic regression with C parameter\n",
    "cv = GridSearchCV(param_grid=params, estimator=LogisticRegression(random_state=rs), cv=10, n_jobs=-1)\n",
    "cv.fit(X_train, y_train)\n",
    "\n",
    "# test the best model\n",
    "print(\"Train accuracy:\", cv.score(X_train, y_train))\n",
    "print(\"Test accuracy:\", cv.score(X_test, y_test))\n",
    "\n",
    "y_pred = cv.predict(X_test)\n",
    "print(classification_report(y_test, y_pred))\n",
    "\n",
    "# print parameters of the best model\n",
    "print(cv.best_params_)"
   ]
  },
  {
   "cell_type": "markdown",
   "metadata": {},
   "source": [
    "GridSearchCV returns `C` = 0.001 as the optimal parameter. The model has a slight (almost negligble) improvement on the test data. In the next section, we will explore model improvement techniques beyond GridSearch."
   ]
  },
  {
   "cell_type": "markdown",
   "metadata": {
    "collapsed": true
   },
   "source": [
    "## 5. Input transfomation and dimensionality reduction\n",
    "\n",
    "Other than fine tuning models by performing grid search over their hyperparameters, there are many methods to improve prediction quality from a model. One way is to improve the input features itself, such as with input transformation. In this technique, methods that changes input distribution such as log transformation or exponential function are applied.\n",
    "\n",
    "Another method to improve prediction quality from a model is to perform dimensionality reduction or feature selection on the input set. The aim of dimensionality reduction is to reduce the size of input set hoping that it will improve model performance, reduce overfitting and enhance visualiation. Dimensionality reduction is divided into two processes:\n",
    "* Feature selection: Process of selecting a subset of relevant features/variables to be used in constructing models.\n",
    "* Feature extraction: Process of transforming high-dimensional feature space into lower dimension. Typically performed by finding principle components of the feature space.\n",
    "\n",
    "In the following sections, we will explore some input transformation and dimensionality reduction techniques.\n",
    "\n",
    "### 5.1. Logarithmic transformation\n",
    "\n",
    "Regression models are sensitive to extreme or outlying values in the input space. Inputs with highly skewed or kurtotic distributions are often selected over inputs with better overall predictions. To avoid this problem, analysts often regularise the input distributions using a simple transformation. This approach could improves model performance, at cost of increased difficulty in interpretation.\n",
    "\n",
    "Examine the variables with **GiftAvg** and **GiftCnt** in their names. Plot their distributions using `sns.distplot`."
   ]
  },
  {
   "cell_type": "code",
   "execution_count": null,
   "metadata": {},
   "outputs": [],
   "source": [
    "import seaborn as sns\n",
    "import matplotlib.pyplot as plt\n",
    "\n",
    "def plot_skewed_columns(df):\n",
    "    # setting up subplots for easier visualisation\n",
    "    f, axes = plt.subplots(2,4, figsize=(10,10), sharex=False)\n",
    "\n",
    "    # gift avg plots\n",
    "    sns.distplot(df['GiftAvg36'].dropna(), hist=False, ax=axes[0,0])\n",
    "    sns.distplot(df['GiftAvgAll'].dropna(), hist=False, ax=axes[0,1])\n",
    "    sns.distplot(df['GiftAvgCard36'].dropna(), hist=False, ax=axes[1,0])\n",
    "    sns.distplot(df['GiftAvgLast'].dropna(), hist=False, ax=axes[1,1])\n",
    "\n",
    "    # gift cnt plots\n",
    "    sns.distplot(df['GiftCnt36'].dropna(), hist=False, ax=axes[0,2])\n",
    "    sns.distplot(df['GiftCntAll'].dropna(), hist=False, ax=axes[0,3])\n",
    "    sns.distplot(df['GiftCntCard36'].dropna(), hist=False, ax=axes[1,2])\n",
    "    sns.distplot(df['GiftCntCardAll'].dropna(), hist=False, ax=axes[1,3])\n",
    "\n",
    "    plt.show()\n",
    "    \n",
    "plot_skewed_columns(df)"
   ]
  },
  {
   "cell_type": "markdown",
   "metadata": {},
   "source": [
    "The **GiftAvg** and **GiftCnt** columns show some degree of skew in their distribution. To normalise this skewed distributions, use the log transformation. Log transformation measure the order of magnitude of the underlying measure instead of the measure itself.\n",
    "\n",
    "Use `pandas.apply()` to apply `np.log()` transformation over these columns."
   ]
  },
  {
   "cell_type": "code",
   "execution_count": 11,
   "metadata": {
    "scrolled": false
   },
   "outputs": [
    {
     "data": {
      "image/png": "[encoded data removed]",
      "text/plain": [
       "<matplotlib.figure.Figure at 0xc755be0>"
      ]
     },
     "metadata": {},
     "output_type": "display_data"
    }
   ],
   "source": [
    "import numpy as np\n",
    "\n",
    "# list columns to be transformed\n",
    "columns_to_transform = ['GiftAvg36', 'GiftAvgAll', 'GiftAvgCard36', 'GiftAvgLast',\n",
    "                        'GiftCnt36', 'GiftCntAll', 'GiftCntCard36', 'GiftCntCardAll']\n",
    "\n",
    "# copy the dataframe\n",
    "df_log = df.copy()\n",
    "\n",
    "# transform the columns with np.log\n",
    "for col in columns_to_transform:\n",
    "    df_log[col] = df_log[col].apply(lambda x: x+1)\n",
    "    df_log[col] = df_log[col].apply(np.log)\n",
    "\n",
    "# plot them again to show the distribution\n",
    "plot_skewed_columns(df_log)"
   ]
  },
  {
   "cell_type": "markdown",
   "metadata": {},
   "source": [
    "After transformation, the columns are much more normally distributed. The next step is to test whether this transformation benefits performance of the model.\n",
    "\n",
    "Start by rescaling and resampling the training and test data."
   ]
  },
  {
   "cell_type": "code",
   "execution_count": 12,
   "metadata": {
    "collapsed": true,
    "scrolled": true
   },
   "outputs": [],
   "source": [
    "# create X, y and train test data partitions\n",
    "y_log = df_log['TargetB']\n",
    "X_log = df_log.drop(['TargetB'], axis=1)\n",
    "X_mat_log = X_log.as_matrix()\n",
    "X_train_log, X_test_log, y_train_log, y_test_log = train_test_split(X_mat_log, y_log, test_size=0.3, stratify=y_log, \n",
    "                                                                    random_state=rs)\n",
    "\n",
    "# standardise them again\n",
    "scaler_log = StandardScaler()\n",
    "X_train_log = scaler_log.fit_transform(X_train_log, y_train_log)\n",
    "X_test_log = scaler_log.transform(X_test_log)"
   ]
  },
  {
   "cell_type": "markdown",
   "metadata": {},
   "source": [
    "After the training and test data is ready, run a grid search to find the optimal **C** value again."
   ]
  },
  {
   "cell_type": "code",
   "execution_count": 13,
   "metadata": {},
   "outputs": [
    {
     "name": "stdout",
     "output_type": "stream",
     "text": [
      "Train accuracy: 0.59395280236\n",
      "Test accuracy: 0.566758430833\n",
      "             precision    recall  f1-score   support\n",
      "\n",
      "          0       0.56      0.58      0.57      1453\n",
      "          1       0.57      0.55      0.56      1453\n",
      "\n",
      "avg / total       0.57      0.57      0.57      2906\n",
      "\n",
      "{'C': 0.001}\n"
     ]
    }
   ],
   "source": [
    "# grid search CV\n",
    "params = {'C': [pow(10, x) for x in range(-6, 4)]}\n",
    "\n",
    "cv = GridSearchCV(param_grid=params, estimator=LogisticRegression(random_state=rs), cv=10, n_jobs=-1)\n",
    "cv.fit(X_train_log, y_train_log)\n",
    "\n",
    "# test the best model\n",
    "print(\"Train accuracy:\", cv.score(X_train_log, y_train_log))\n",
    "print(\"Test accuracy:\", cv.score(X_test_log, y_test_log))\n",
    "\n",
    "y_pred = cv.predict(X_test_log)\n",
    "print(classification_report(y_test_log, y_pred))\n",
    "\n",
    "# print parameters of the best model\n",
    "print(cv.best_params_)"
   ]
  },
  {
   "cell_type": "markdown",
   "metadata": {},
   "source": [
    "Similar to the previous model with optimal **C** value (0.001), log transformation only managed to increased the model performance slightly on the test performance."
   ]
  },
  {
   "cell_type": "markdown",
   "metadata": {},
   "source": [
    "### 5.2. Recursive feature elimination\n",
    "\n",
    "The next method is a dimensionality reduction technique called recursive feature elimination (RFE). RFE works by first training the model on all features. Each feature then will be assigned an weight, and features with smallest weight (less important) is eliminated, making a smaller feature set. This process is repeated a number of times until reaching the optimal performance.\n",
    "\n",
    "In this practical, we will use RFE with cross validation. Cross validation allows RFE to generalise better over the training dataset. RFE with CV is implemented in sklearn under `sklearn.feature_selection.RFECV`. Initiate the RFE with a logistic regression estimator and 10-fold validation and fit it to start eliminating features."
   ]
  },
  {
   "cell_type": "code",
   "execution_count": 14,
   "metadata": {},
   "outputs": [
    {
     "name": "stdout",
     "output_type": "stream",
     "text": [
      "Original feature set 85\n",
      "Number of features after elimination 40\n"
     ]
    }
   ],
   "source": [
    "from sklearn.feature_selection import RFECV\n",
    "\n",
    "rfe = RFECV(estimator = LogisticRegression(random_state=rs), cv=10)\n",
    "rfe.fit(X_train, y_train) # run the RFECV\n",
    "\n",
    "# comparing how many variables before and after\n",
    "print(\"Original feature set\", X_train.shape[1])\n",
    "print(\"Number of features after elimination\", rfe.n_features_)"
   ]
  },
  {
   "cell_type": "markdown",
   "metadata": {},
   "source": [
    "The RFE+CV process output 40 features as the optimal number of features. This means that according to the model, there are only 40 variables in the input set that are important to the analysis. We can now `.transform()` the original input set, taking only the important features."
   ]
  },
  {
   "cell_type": "code",
   "execution_count": 15,
   "metadata": {
    "collapsed": true
   },
   "outputs": [],
   "source": [
    "X_train_sel = rfe.transform(X_train)\n",
    "X_test_sel = rfe.transform(X_test)"
   ]
  },
  {
   "cell_type": "markdown",
   "metadata": {},
   "source": [
    "Run another `GridSearchCV` and test if the new input set improves the model performance."
   ]
  },
  {
   "cell_type": "code",
   "execution_count": 16,
   "metadata": {},
   "outputs": [
    {
     "name": "stdout",
     "output_type": "stream",
     "text": [
      "Train accuracy: 0.593510324484\n",
      "Test accuracy: 0.56882312457\n",
      "             precision    recall  f1-score   support\n",
      "\n",
      "          0       0.57      0.58      0.57      1453\n",
      "          1       0.57      0.56      0.56      1453\n",
      "\n",
      "avg / total       0.57      0.57      0.57      2906\n",
      "\n",
      "{'C': 100}\n"
     ]
    }
   ],
   "source": [
    "# grid search CV\n",
    "params = {'C': [pow(10, x) for x in range(-6, 4)]}\n",
    "\n",
    "cv = GridSearchCV(param_grid=params, estimator=LogisticRegression(random_state=rs), cv=10, n_jobs=-1)\n",
    "cv.fit(X_train_sel, y_train)\n",
    "\n",
    "# test the best model\n",
    "print(\"Train accuracy:\", cv.score(X_train_sel, y_train))\n",
    "print(\"Test accuracy:\", cv.score(X_test_sel, y_test))\n",
    "\n",
    "y_pred = cv.predict(X_test_sel)\n",
    "print(classification_report(y_test, y_pred))\n",
    "\n",
    "# print parameters of the best model\n",
    "print(cv.best_params_)"
   ]
  },
  {
   "cell_type": "markdown",
   "metadata": {},
   "source": [
    "The RFE also managed to only slightly improve the accuracy of our model on test data. More importantly, with much smaller feature set, the training, testing and prediction process is speed up significantly.\n",
    "\n",
    "RFE could also be combined with other dimensionality reduction and transformation techniques. For example, we could combine it with log transformation by running RFE on the log transformed input set. Use the following code and see the combined approach improves the model performance."
   ]
  },
  {
   "cell_type": "code",
   "execution_count": 21,
   "metadata": {},
   "outputs": [
    {
     "name": "stdout",
     "output_type": "stream",
     "text": [
      "Original feature set 85\n",
      "Number of features after elimination 34\n",
      "Train accuracy: 0.592330383481\n",
      "Test accuracy: 0.570543702684\n",
      "             precision    recall  f1-score   support\n",
      "\n",
      "          0       0.57      0.58      0.57      1453\n",
      "          1       0.57      0.57      0.57      1453\n",
      "\n",
      "avg / total       0.57      0.57      0.57      2906\n",
      "\n",
      "{'C': 0.01}\n"
     ]
    }
   ],
   "source": [
    "# running RFE + log transformation\n",
    "rfe = RFECV(estimator = LogisticRegression(random_state=rs), cv=10)\n",
    "rfe.fit(X_train_log, y_train_log) # run the RFECV on log transformed dataset\n",
    "\n",
    "# comparing how many variables before and after\n",
    "print(\"Original feature set\", X_train_log.shape[1])\n",
    "print(\"Number of features after elimination\", rfe.n_features_)\n",
    "\n",
    "# select features from log transformed dataset\n",
    "X_train_sel_log = rfe.transform(X_train_log)\n",
    "X_test_sel_log = rfe.transform(X_test_log)\n",
    "\n",
    "# init grid search CV on transformed dataset\n",
    "params = {'C': [pow(10, x) for x in range(-6, 4)]}\n",
    "cv = GridSearchCV(param_grid=params, estimator=LogisticRegression(random_state=rs), cv=10, n_jobs=-1)\n",
    "cv.fit(X_train_sel_log, y_train_log)\n",
    "\n",
    "# test the best model\n",
    "print(\"Train accuracy:\", cv.score(X_train_sel_log, y_train_log))\n",
    "print(\"Test accuracy:\", cv.score(X_test_sel_log, y_test_log))\n",
    "\n",
    "y_pred_log = cv.predict(X_test_sel_log)\n",
    "print(classification_report(y_test_log, y_pred_log))\n",
    "\n",
    "# print parameters of the best model\n",
    "print(cv.best_params_)"
   ]
  },
  {
   "cell_type": "markdown",
   "metadata": {},
   "source": [
    "RFE also managed to improve performance of the model on the log transformed dataset."
   ]
  },
  {
   "cell_type": "markdown",
   "metadata": {},
   "source": [
    "### 5.3. Feature selection using another model\n",
    "\n",
    "The last method we will explore in this practical is \"select from model\". In this technique, we utilise machine learning models with ability to find feature importance and select the feature set using the computed importance from the trained model. Typically, decision tree or support vector machine models are used in this method. Recall from the previous practical that decision trees can compute feature importance internally through the tree structure. Therefore, we will use decision tree as \"selecting model\" here.\n",
    "\n",
    "We will utilise the log transformed dataset for this purpose. Initialise a GridSearchCV with DecisionTreeClassifier and fit it to the training data."
   ]
  },
  {
   "cell_type": "code",
   "execution_count": 32,
   "metadata": {},
   "outputs": [
    {
     "name": "stdout",
     "output_type": "stream",
     "text": [
      "{'criterion': 'gini', 'max_depth': 5, 'min_samples_leaf': 50}\n"
     ]
    }
   ],
   "source": [
    "from sklearn.tree import DecisionTreeClassifier\n",
    "\n",
    "# similar parameters with the last practical\n",
    "params = {'criterion': ['gini', 'entropy'],\n",
    "          'max_depth': range(2, 7),\n",
    "          'min_samples_leaf': range(20, 60, 10)}\n",
    "\n",
    "cv = GridSearchCV(param_grid=params, estimator=DecisionTreeClassifier(random_state=rs), cv=10)\n",
    "cv.fit(X_train_log, y_train_log)\n",
    "\n",
    "print(cv.best_params_)"
   ]
  },
  {
   "cell_type": "markdown",
   "metadata": {},
   "source": [
    "Once the decision tree is trained, analyse the feature importance from this trained model using `analyse_feature_importance()` function we wrote in the previous practical."
   ]
  },
  {
   "cell_type": "code",
   "execution_count": null,
   "metadata": {},
   "outputs": [],
   "source": [
    "from dm_tools import analyse_feature_importance\n",
    "\n",
    "# analyse feature importance from the tuned decision tree against log transformed X\n",
    "analyse_feature_importance(cv.best_estimator_, X_log.columns)"
   ]
  },
  {
   "cell_type": "markdown",
   "metadata": {},
   "source": [
    "The output shows there are only 16 features with importance value more than 0. This means according to the tuned decision tree, there are only 16 important features in our dataset. We could now use this decision tree to perform feature selection.\n",
    "\n",
    "Import `SelectFromModel` module from `sklearn.feature_selection`."
   ]
  },
  {
   "cell_type": "code",
   "execution_count": 36,
   "metadata": {},
   "outputs": [
    {
     "name": "stdout",
     "output_type": "stream",
     "text": [
      "(6780, 14)\n"
     ]
    }
   ],
   "source": [
    "from sklearn.feature_selection import SelectFromModel\n",
    "\n",
    "# use the trained best decision tree from GridSearchCV to select features\n",
    "# supply the prefit=True parameter to stop SelectFromModel to re-train the model\n",
    "selectmodel = SelectFromModel(cv.best_estimator_, prefit=True)\n",
    "X_train_sel_model = selectmodel.transform(X_train_log)\n",
    "X_test_sel_model = selectmodel.transform(X_test_log)\n",
    "\n",
    "print(X_train_sel_model.shape)"
   ]
  },
  {
   "cell_type": "markdown",
   "metadata": {},
   "source": [
    "The shape of X_train shows there are only 14 feature left, exactly what the decision tree suggests. Next, train and tune another logistic regression model from this new data set and see if it improves the performance."
   ]
  },
  {
   "cell_type": "code",
   "execution_count": 37,
   "metadata": {},
   "outputs": [
    {
     "name": "stdout",
     "output_type": "stream",
     "text": [
      "Train accuracy: 0.581710914454\n",
      "Test accuracy: 0.570543702684\n",
      "             precision    recall  f1-score   support\n",
      "\n",
      "          0       0.57      0.58      0.58      1453\n",
      "          1       0.57      0.56      0.57      1453\n",
      "\n",
      "avg / total       0.57      0.57      0.57      2906\n",
      "\n",
      "{'C': 0.01}\n"
     ]
    }
   ],
   "source": [
    "params = {'C': [pow(10, x) for x in range(-6, 4)]}\n",
    "\n",
    "cv = GridSearchCV(param_grid=params, estimator=LogisticRegression(random_state=rs), cv=10, n_jobs=-1)\n",
    "cv.fit(X_train_sel_model, y_train_log)\n",
    "\n",
    "print(\"Train accuracy:\", cv.score(X_train_sel_model, y_train_log))\n",
    "print(\"Test accuracy:\", cv.score(X_test_sel_model, y_test_log))\n",
    "\n",
    "# test the best model\n",
    "y_pred = cv.predict(X_test_sel_model)\n",
    "print(classification_report(y_test_log, y_pred))\n",
    "\n",
    "# print parameters of the best model\n",
    "print(cv.best_params_)"
   ]
  },
  {
   "cell_type": "markdown",
   "metadata": {},
   "source": [
    "The test accuracy result shows improvement over the original feature set as well. In addition, the feature set now only has 14 features compared to the original 85, translating to huge computation power saved. This demonstrates the effectiveness of dimensionality reduction.\n",
    "\n",
    "## End notes\n",
    "\n",
    "This lecture note taught us how to build, tune and explore the structure of\n",
    "logistic regression models. We also explored transformation and dimensionality\n",
    "reduction techniques to overcome skewed distribution and reduce the size of the feature set and improve performance of our logistic regression model."
   ]
  }
 ],
 "metadata": {
  "kernelspec": {
   "display_name": "Python 3",
   "language": "python",
   "name": "python3"
  },
  "language_info": {
   "codemirror_mode": {
    "name": "ipython",
    "version": 3
   },
   "file_extension": ".py",
   "mimetype": "text/x-python",
   "name": "python",
   "nbconvert_exporter": "python",
   "pygments_lexer": "ipython3",
   "version": "3.6.4"
  }
 },
 "nbformat": 4,
 "nbformat_minor": 2
}
