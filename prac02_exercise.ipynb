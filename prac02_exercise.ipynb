{
 "cells": [
  {
   "cell_type": "markdown",
   "metadata": {},
   "source": [
    "# Exercise 2: Data Preparation\n",
    "\n",
    "---\n",
    "**Written by Hendi Lie (h2.lie@qut.edu.au) and Richi Nayak (r.nayak@qut.edu.au). All rights reserved.**\n",
    "\n",
    "Welcome to the second practical exercise for IFN645. Each exercise sheet contains a number of theoretical and programming exercises, designed to strengthen both conceptual and practical understanding of data mining processes in this unit.\n",
    "\n",
    "To answer conceptual questions, write the answer to each question on a paper/note with your reasoning. For programming exercises, open your iPython console/Jupyter notebook and use Python commands/libraries introduced in each practical to answer the questions. In many cases, you will need to write code to support your conceptual answers."
   ]
  },
  {
   "cell_type": "markdown",
   "metadata": {},
   "source": [
    "## 0. Prequisite\n",
    "\n",
    "Perform the following steps before trying the exercises:\n",
    "1. Import pandas as \"pd\" and load the house price dataset into \"df\".\n",
    "2. Print dataset information to refresh your memory."
   ]
  },
  {
   "cell_type": "code",
   "execution_count": 4,
   "metadata": {},
   "outputs": [],
   "source": [
    "import pandas as pd"
   ]
  },
  {
   "cell_type": "code",
   "execution_count": 5,
   "metadata": {},
   "outputs": [],
   "source": [
    "df = pd.read_csv('datasets/melbourne_house_price.csv', index_col=0)"
   ]
  },
  {
   "cell_type": "code",
   "execution_count": 6,
   "metadata": {},
   "outputs": [
    {
     "name": "stdout",
     "output_type": "stream",
     "text": [
      "<class 'pandas.core.frame.DataFrame'>\n",
      "Int64Index: 24197 entries, 0 to 24196\n",
      "Data columns (total 22 columns):\n",
      "Suburb                24197 non-null object\n",
      "Address               24197 non-null object\n",
      "Rooms                 24197 non-null int64\n",
      "Type                  24197 non-null object\n",
      "Price                 24197 non-null float64\n",
      "Method                24197 non-null object\n",
      "SellerG               24197 non-null object\n",
      "Date                  24197 non-null object\n",
      "Distance              24196 non-null float64\n",
      "Postcode              24196 non-null float64\n",
      "Bedroom2              18673 non-null float64\n",
      "Bathroom              18669 non-null float64\n",
      "Car                   18394 non-null float64\n",
      "Landsize              15946 non-null float64\n",
      "BuildingArea          9609 non-null float64\n",
      "YearBuilt             10961 non-null float64\n",
      "CouncilArea           24194 non-null object\n",
      "Lattitude             18843 non-null float64\n",
      "Longtitude            18843 non-null float64\n",
      "Regionname            24194 non-null object\n",
      "Propertycount         24194 non-null float64\n",
      "Price_above_median    24197 non-null int64\n",
      "dtypes: float64(12), int64(2), object(8)\n",
      "memory usage: 4.2+ MB\n",
      "None\n"
     ]
    }
   ],
   "source": [
    "print(df.info())"
   ]
  },
  {
   "cell_type": "markdown",
   "metadata": {},
   "source": [
    "## 1. Exploring data\n",
    "\n",
    "Perform following operations and answer the following questions:\n",
    "1. Describe the key statistics of \"Rooms\" column. What is the mean and median (50% quantile) value of this column?\n",
    "2. Bin the \"Distance\" column into 10 bins. How many houses are in each bin?\n",
    "3. How many unique values are in \"Method\" column? What is the number of occurences for each of these unique values?\n",
    "4. Assume **Price_above_median** is a binary variable of whether a house is priced above the median ($875,000) and **Type** is a categorical variable representing type of the property (house/unit/townhouse). What is the correlation between property type and price above median in this dataset? *Hint: use groupby.*"
   ]
  },
  {
   "cell_type": "code",
   "execution_count": 7,
   "metadata": {},
   "outputs": [
    {
     "name": "stdout",
     "output_type": "stream",
     "text": [
      "count    24197.000000\n",
      "mean         2.979874\n",
      "std          0.960262\n",
      "min          1.000000\n",
      "25%          2.000000\n",
      "50%          3.000000\n",
      "75%          4.000000\n",
      "max         16.000000\n",
      "Name: Rooms, dtype: float64\n"
     ]
    }
   ],
   "source": [
    "print(df['Rooms'].describe())"
   ]
  },
  {
   "cell_type": "code",
   "execution_count": 8,
   "metadata": {},
   "outputs": [
    {
     "name": "stdout",
     "output_type": "stream",
     "text": [
      "(9.62, 14.43]      7857\n",
      "(4.81, 9.62]       7683\n",
      "(-0.0491, 4.81]    3476\n",
      "(14.43, 19.24]     2817\n",
      "(19.24, 24.05]     1209\n",
      "(24.05, 28.86]      541\n",
      "(28.86, 33.67]      271\n",
      "(33.67, 38.48]      265\n",
      "(43.29, 48.1]        59\n",
      "(38.48, 43.29]       18\n",
      "Name: Distance, dtype: int64\n"
     ]
    }
   ],
   "source": [
    "print(df['Distance'].value_counts(bins=10))"
   ]
  },
  {
   "cell_type": "code",
   "execution_count": 9,
   "metadata": {},
   "outputs": [
    {
     "name": "stdout",
     "output_type": "stream",
     "text": [
      "['S' 'SP' 'PI' 'VB' 'SA']\n"
     ]
    }
   ],
   "source": [
    "print(df['Method'].unique())"
   ]
  },
  {
   "cell_type": "code",
   "execution_count": 10,
   "metadata": {},
   "outputs": [
    {
     "name": "stdout",
     "output_type": "stream",
     "text": [
      "[ 2.5 13.5  3.3  6.4 13.8 11.1  6.3  5.9 11.  12.2 10.5  6.6  9.7  9.2\n",
      " 13.  13.9 13.1 10.8 11.2 10.7  5.2 11.8 11.7  7.8  9.   3.2 11.4  8.9\n",
      "  8.1  9.3 13.6  3.4  1.6 10.3  8.5  7.7  8.   9.4  5.8  3.5  4.4 12.1\n",
      " 13.7 14.5  4.6  7.9 15.  12.8  4.2  5.6  7.5  6.2  7.4  8.7  2.8  4.1\n",
      "  6.9 14.6  8.4  2.3  5.5 11.5 14.7  2.6  9.9  3.8  4.5  8.8  2.1  1.2\n",
      "  6.1 12.6 13.3  6.5 14.9  1.9  5.1  7.   9.1  9.5  1.8  1.5  9.8 12.4\n",
      " 10.6  8.2 10.9 10.4 14.  12.5  5.3 12.7  3.7  3.   5.7  4.3 10.2 16.5\n",
      " 23.2 17.3 35.2 13.4 25.  16.1  4.  14.8 10.1 17.9  3.6 43.4  6.7 20.6\n",
      " 34.7 23.  24.7 21.8 22.2 14.3 25.9 27.  18.   7.2 19.6 28.8 24.8 15.4\n",
      " 38.  36.9 45.9 12.9  7.3 16.7 20.4 32.3 45.2 16.  18.4 12.3 15.5  5.4\n",
      " 25.2 16.3 33.8 31.7 29.8 20.  17.2 16.2 21.5 14.2 34.1 22.7 12.   2.4\n",
      " 19.9 21.3 23.8 23.5 15.2 35.4 20.5  2.7 20.8  5.  30.4 15.3 17.6 25.5\n",
      " 27.2 31.2 17.5  2.   0.  26.5 18.8 47.3  0.7 21.1 23.6  3.1  6.8 34.9\n",
      "  1.3 18.7 41.  39.8  8.6 27.1 17.4 26.  31.6 47.4 34.6 27.7 33.3 23.3\n",
      " 29.3 37.5 26.1 28.5 43.3 39.  31.4 20.1 35.5 48.1 44.2 16.6  1.4 29.9\n",
      " 22.9 33.   nan]\n"
     ]
    }
   ],
   "source": [
    "print(df['Distance'].unique())"
   ]
  },
  {
   "cell_type": "code",
   "execution_count": 22,
   "metadata": {},
   "outputs": [
    {
     "data": {
      "text/html": [
       "<div>\n",
       "<style scoped>\n",
       "    .dataframe tbody tr th:only-of-type {\n",
       "        vertical-align: middle;\n",
       "    }\n",
       "\n",
       "    .dataframe tbody tr th {\n",
       "        vertical-align: top;\n",
       "    }\n",
       "\n",
       "    .dataframe thead th {\n",
       "        text-align: right;\n",
       "    }\n",
       "</style>\n",
       "<table border=\"1\" class=\"dataframe\">\n",
       "  <thead>\n",
       "    <tr style=\"text-align: right;\">\n",
       "      <th></th>\n",
       "      <th>Price_above_median</th>\n",
       "      <th>Counter</th>\n",
       "    </tr>\n",
       "    <tr>\n",
       "      <th>Type</th>\n",
       "      <th></th>\n",
       "      <th></th>\n",
       "    </tr>\n",
       "  </thead>\n",
       "  <tbody>\n",
       "    <tr>\n",
       "      <th>h</th>\n",
       "      <td>10293</td>\n",
       "      <td>16303</td>\n",
       "    </tr>\n",
       "    <tr>\n",
       "      <th>t</th>\n",
       "      <td>1172</td>\n",
       "      <td>2545</td>\n",
       "    </tr>\n",
       "    <tr>\n",
       "      <th>u</th>\n",
       "      <td>617</td>\n",
       "      <td>5349</td>\n",
       "    </tr>\n",
       "  </tbody>\n",
       "</table>\n",
       "</div>"
      ],
      "text/plain": [
       "      Price_above_median  Counter\n",
       "Type                             \n",
       "h                  10293    16303\n",
       "t                   1172     2545\n",
       "u                    617     5349"
      ]
     },
     "execution_count": 22,
     "metadata": {},
     "output_type": "execute_result"
    }
   ],
   "source": [
    "temp = df\n",
    "temp['Counter'] = 1\n",
    "temp.groupby(['Type'])['Price_above_median', 'Counter'].sum()"
   ]
  },
  {
   "cell_type": "markdown",
   "metadata": {},
   "source": [
    "## 2. Plotting\n",
    "\n",
    "Perform the following operations using `matplotlib.pyplot` and `seaborn`. Be mindful of each column type.\n",
    "1. Create a distribution plot for \"Distance\" column.\n",
    "2. Create a distribution plot for \"Type\" column.\n",
    "3. Create a distribution plot for \"Rooms\", grouped by the property type."
   ]
  },
  {
   "cell_type": "code",
   "execution_count": 1,
   "metadata": {},
   "outputs": [],
   "source": [
    "import matplotlib.pyplot as plt"
   ]
  },
  {
   "cell_type": "code",
   "execution_count": 2,
   "metadata": {},
   "outputs": [],
   "source": [
    "import seaborn as sns"
   ]
  },
  {
   "cell_type": "code",
   "execution_count": 12,
   "metadata": {},
   "outputs": [
    {
     "data": {
      "image/png": "[encoded data removed]",
      "text/plain": [
       "<matplotlib.figure.Figure at 0x105a9b6d8>"
      ]
     },
     "metadata": {},
     "output_type": "display_data"
    }
   ],
   "source": [
    "d1 = sns.distplot(df['Distance'].dropna())\n",
    "plt.show()"
   ]
  },
  {
   "cell_type": "code",
   "execution_count": 13,
   "metadata": {},
   "outputs": [
    {
     "data": {
      "image/png": "[encoded data removed]",
      "text/plain": [
       "<matplotlib.figure.Figure at 0x109a28080>"
      ]
     },
     "metadata": {},
     "output_type": "display_data"
    }
   ],
   "source": [
    "d2 = sns.countplot(data=df, x='Type')\n",
    "plt.show()"
   ]
  },
  {
   "cell_type": "code",
   "execution_count": 15,
   "metadata": {},
   "outputs": [
    {
     "data": {
      "image/png": "[encoded data removed]",
      "text/plain": [
       "<matplotlib.figure.Figure at 0x109fea278>"
      ]
     },
     "metadata": {},
     "output_type": "display_data"
    }
   ],
   "source": [
    "ax = sns.boxplot(x=\"Type\", y=\"Rooms\", data=df)\n",
    "plt.show()"
   ]
  },
  {
   "cell_type": "markdown",
   "metadata": {},
   "source": [
    "## 3. Correcting errors in data\n",
    "\n",
    "Perform the following operations and answer the following questions:\n",
    "1. By performing data exploration, grouping and plotting, what problems have you revealed with the dataset?\n",
    "2. Do you think **Address** column is useful for the predictive model? Why?\n",
    "3. Impute missing values in **Car** variable. What imputation method will you use, and why?\n",
    "4. Perform one hot encoding for **Type** and **Method** columns.\n",
    "5. What columns do you think is not required here? Drop them.\n",
    "6. What data preparation process can be performed for `Date` and `SellerG`?"
   ]
  },
  {
   "cell_type": "markdown",
   "metadata": {},
   "source": [
    "# Answer\n",
    "\n",
    "When you are finished with all exercise questions, the sample answers are available in the following Github repository. Remember, please try the exercises first before viewing the answers.\n",
    "\n",
    "https://github.com/liehendi11/IFN645_answers"
   ]
  }
 ],
 "metadata": {
  "kernelspec": {
   "display_name": "Python 3",
   "language": "python",
   "name": "python3"
  },
  "language_info": {
   "codemirror_mode": {
    "name": "ipython",
    "version": 3
   },
   "file_extension": ".py",
   "mimetype": "text/x-python",
   "name": "python",
   "nbconvert_exporter": "python",
   "pygments_lexer": "ipython3",
   "version": "3.6.4"
  }
 },
 "nbformat": 4,
 "nbformat_minor": 2
}
