{
 "cells": [
  {
   "cell_type": "markdown",
   "metadata": {},
   "source": [
    "<h2>Task 1. Data Selection and Distribution.</h2>\n",
    "1. Can you identify any clear patterns by initial exploration of the data using histogram or box plot?\n",
    "2. What is the proportion of individuals who purchased organic products?\n",
    "3. Did you have to fix any data quality problems? Detail them.\n",
    "4. What variables did you include in the analysis and what were their roles and measurement level set? Justify your choice.\n",
    "5. What distribution scheme did you use? What data partitioning allocation did you set? Explain your selection."
   ]
  },
  {
   "cell_type": "code",
   "execution_count": 8,
   "metadata": {},
   "outputs": [
    {
     "name": "stdout",
     "output_type": "stream",
     "text": [
      "<class 'pandas.core.frame.DataFrame'>\n",
      "RangeIndex: 22223 entries, 0 to 22222\n",
      "Data columns (total 18 columns):\n",
      "CUSTID          22223 non-null int64\n",
      "GENDER          19711 non-null object\n",
      "DOB             22223 non-null object\n",
      "EDATE           22223 non-null object\n",
      "AGE             20715 non-null float64\n",
      "AGEGRP1         20715 non-null object\n",
      "AGEGRP2         20715 non-null object\n",
      "TV_REG          21758 non-null object\n",
      "NGROUP          21549 non-null object\n",
      "NEIGHBORHOOD    21549 non-null float64\n",
      "LCDATE          21942 non-null object\n",
      "ORGANICS        22223 non-null int64\n",
      "BILL            22223 non-null float64\n",
      "REGION          21758 non-null object\n",
      "CLASS           22223 non-null object\n",
      "ORGYN           22223 non-null int64\n",
      "AFFL            21138 non-null float64\n",
      "LTIME           21942 non-null float64\n",
      "dtypes: float64(5), int64(3), object(10)\n",
      "memory usage: 3.1+ MB\n",
      "None\n"
     ]
    }
   ],
   "source": [
    "import pandas as pd\n",
    "import matplotlib.pyplot as plt\n",
    "import seaborn as sns\n",
    "\n",
    "# read the organics dataset\n",
    "df = pd.read_csv('organics.csv')\n",
    "\n",
    "# show all columns information\n",
    "print(df.info())"
   ]
  },
  {
   "cell_type": "code",
   "execution_count": 9,
   "metadata": {},
   "outputs": [
    {
     "name": "stdout",
     "output_type": "stream",
     "text": [
      "['U' 'F' 'M' nan]\n"
     ]
    }
   ],
   "source": [
    "print(df['GENDER'].unique())"
   ]
  },
  {
   "cell_type": "code",
   "execution_count": 10,
   "metadata": {},
   "outputs": [
    {
     "data": {
      "image/png": "[encoded data removed]",
      "text/plain": [
       "<matplotlib.figure.Figure at 0x107a68630>"
      ]
     },
     "metadata": {},
     "output_type": "display_data"
    }
   ],
   "source": [
    "dg = sns.countplot(data=df, x='GENDER')\n",
    "plt.show()"
   ]
  },
  {
   "cell_type": "code",
   "execution_count": 11,
   "metadata": {},
   "outputs": [
    {
     "name": "stdout",
     "output_type": "stream",
     "text": [
      "[76. 49. 70. 65. 68. 72. 74. 62. 43. 60. nan 51. 64. 37. 54. 42. 66. 46.\n",
      " 39. 75. 79. 50. 35. 71. 44. 31. 41. 58. 47. 61. 53. 57. 45. 55. 18. 56.\n",
      " 67. 78. 48. 52. 34. 40. 38. 77. 27. 36. 59. 63. 26. 69. 73. 33. 30. 29.\n",
      " 32. 22. 25. 28. 23. 20. 24. 19. 21.]\n"
     ]
    }
   ],
   "source": [
    "print(df['AGE'].unique())"
   ]
  },
  {
   "cell_type": "code",
   "execution_count": 12,
   "metadata": {},
   "outputs": [
    {
     "data": {
      "image/png": "[encoded data removed]",
      "text/plain": [
       "<matplotlib.figure.Figure at 0x107b58b00>"
      ]
     },
     "metadata": {},
     "output_type": "display_data"
    }
   ],
   "source": [
    "# dropna is used because 'AGE' has missing values\n",
    "dg = sns.distplot(df['AGE'].dropna())\n",
    "plt.show()"
   ]
  },
  {
   "cell_type": "code",
   "execution_count": 14,
   "metadata": {},
   "outputs": [
    {
     "name": "stdout",
     "output_type": "stream",
     "text": [
      "Raw count of how many genders bought organic products\n",
      "ORGANICS  GENDER\n",
      "0         F         7944\n",
      "          M         4849\n",
      "          U         1642\n",
      "1         F         3539\n",
      "          M          821\n",
      "          U           91\n",
      "2         F          538\n",
      "          M          118\n",
      "          U           12\n",
      "3         F          128\n",
      "          M           27\n",
      "          U            2\n",
      "Name: GENDER, dtype: int64\n"
     ]
    }
   ],
   "source": [
    "# get the value count of each gender\n",
    "print(\"Raw count of how many genders bought organic products\")\n",
    "print(df.groupby(['ORGANICS'])['GENDER'].value_counts())"
   ]
  },
  {
   "cell_type": "code",
   "execution_count": 15,
   "metadata": {},
   "outputs": [
    {
     "data": {
      "text/html": [
       "<div>\n",
       "<style scoped>\n",
       "    .dataframe tbody tr th:only-of-type {\n",
       "        vertical-align: middle;\n",
       "    }\n",
       "\n",
       "    .dataframe tbody tr th {\n",
       "        vertical-align: top;\n",
       "    }\n",
       "\n",
       "    .dataframe thead th {\n",
       "        text-align: right;\n",
       "    }\n",
       "</style>\n",
       "<table border=\"1\" class=\"dataframe\">\n",
       "  <thead>\n",
       "    <tr style=\"text-align: right;\">\n",
       "      <th></th>\n",
       "      <th>CUSTID</th>\n",
       "      <th>GENDER</th>\n",
       "      <th>DOB</th>\n",
       "      <th>EDATE</th>\n",
       "      <th>AGE</th>\n",
       "      <th>AGEGRP1</th>\n",
       "      <th>AGEGRP2</th>\n",
       "      <th>TV_REG</th>\n",
       "      <th>NGROUP</th>\n",
       "      <th>NEIGHBORHOOD</th>\n",
       "      <th>LCDATE</th>\n",
       "      <th>ORGANICS</th>\n",
       "      <th>BILL</th>\n",
       "      <th>REGION</th>\n",
       "      <th>CLASS</th>\n",
       "      <th>ORGYN</th>\n",
       "      <th>AFFL</th>\n",
       "      <th>LTIME</th>\n",
       "    </tr>\n",
       "  </thead>\n",
       "  <tbody>\n",
       "    <tr>\n",
       "      <th>0</th>\n",
       "      <td>140</td>\n",
       "      <td>U</td>\n",
       "      <td>1921-09-16</td>\n",
       "      <td>1998-02-23</td>\n",
       "      <td>76.0</td>\n",
       "      <td>60-80</td>\n",
       "      <td>70-80</td>\n",
       "      <td>Wales &amp; West</td>\n",
       "      <td>C</td>\n",
       "      <td>16.0</td>\n",
       "      <td>1994-11-07</td>\n",
       "      <td>0</td>\n",
       "      <td>16000.00</td>\n",
       "      <td>Midlands</td>\n",
       "      <td>Gold</td>\n",
       "      <td>0</td>\n",
       "      <td>10.0</td>\n",
       "      <td>4.0</td>\n",
       "    </tr>\n",
       "    <tr>\n",
       "      <th>1</th>\n",
       "      <td>620</td>\n",
       "      <td>U</td>\n",
       "      <td>1949-02-12</td>\n",
       "      <td>1998-02-23</td>\n",
       "      <td>49.0</td>\n",
       "      <td>40-60</td>\n",
       "      <td>40-50</td>\n",
       "      <td>Wales &amp; West</td>\n",
       "      <td>D</td>\n",
       "      <td>35.0</td>\n",
       "      <td>1993-06-04</td>\n",
       "      <td>0</td>\n",
       "      <td>6000.00</td>\n",
       "      <td>Midlands</td>\n",
       "      <td>Gold</td>\n",
       "      <td>0</td>\n",
       "      <td>4.0</td>\n",
       "      <td>5.0</td>\n",
       "    </tr>\n",
       "    <tr>\n",
       "      <th>2</th>\n",
       "      <td>868</td>\n",
       "      <td>F</td>\n",
       "      <td>1927-11-27</td>\n",
       "      <td>1998-02-23</td>\n",
       "      <td>70.0</td>\n",
       "      <td>60-80</td>\n",
       "      <td>70-80</td>\n",
       "      <td>Wales &amp; West</td>\n",
       "      <td>D</td>\n",
       "      <td>27.0</td>\n",
       "      <td>1990-08-02</td>\n",
       "      <td>1</td>\n",
       "      <td>0.02</td>\n",
       "      <td>Midlands</td>\n",
       "      <td>Silver</td>\n",
       "      <td>1</td>\n",
       "      <td>5.0</td>\n",
       "      <td>8.0</td>\n",
       "    </tr>\n",
       "    <tr>\n",
       "      <th>3</th>\n",
       "      <td>1120</td>\n",
       "      <td>M</td>\n",
       "      <td>1932-04-10</td>\n",
       "      <td>1998-02-23</td>\n",
       "      <td>65.0</td>\n",
       "      <td>60-80</td>\n",
       "      <td>60-70</td>\n",
       "      <td>Midlands</td>\n",
       "      <td>F</td>\n",
       "      <td>51.0</td>\n",
       "      <td>1991-07-01</td>\n",
       "      <td>1</td>\n",
       "      <td>0.01</td>\n",
       "      <td>Midlands</td>\n",
       "      <td>Tin</td>\n",
       "      <td>1</td>\n",
       "      <td>10.0</td>\n",
       "      <td>7.0</td>\n",
       "    </tr>\n",
       "    <tr>\n",
       "      <th>4</th>\n",
       "      <td>2313</td>\n",
       "      <td>F</td>\n",
       "      <td>1929-05-21</td>\n",
       "      <td>1998-02-23</td>\n",
       "      <td>68.0</td>\n",
       "      <td>60-80</td>\n",
       "      <td>60-70</td>\n",
       "      <td>Midlands</td>\n",
       "      <td>A</td>\n",
       "      <td>4.0</td>\n",
       "      <td>1990-03-01</td>\n",
       "      <td>0</td>\n",
       "      <td>0.01</td>\n",
       "      <td>Midlands</td>\n",
       "      <td>Tin</td>\n",
       "      <td>0</td>\n",
       "      <td>11.0</td>\n",
       "      <td>8.0</td>\n",
       "    </tr>\n",
       "  </tbody>\n",
       "</table>\n",
       "</div>"
      ],
      "text/plain": [
       "   CUSTID GENDER         DOB       EDATE   AGE AGEGRP1 AGEGRP2        TV_REG  \\\n",
       "0     140      U  1921-09-16  1998-02-23  76.0   60-80   70-80  Wales & West   \n",
       "1     620      U  1949-02-12  1998-02-23  49.0   40-60   40-50  Wales & West   \n",
       "2     868      F  1927-11-27  1998-02-23  70.0   60-80   70-80  Wales & West   \n",
       "3    1120      M  1932-04-10  1998-02-23  65.0   60-80   60-70      Midlands   \n",
       "4    2313      F  1929-05-21  1998-02-23  68.0   60-80   60-70      Midlands   \n",
       "\n",
       "  NGROUP  NEIGHBORHOOD      LCDATE  ORGANICS      BILL    REGION   CLASS  \\\n",
       "0      C          16.0  1994-11-07         0  16000.00  Midlands    Gold   \n",
       "1      D          35.0  1993-06-04         0   6000.00  Midlands    Gold   \n",
       "2      D          27.0  1990-08-02         1      0.02  Midlands  Silver   \n",
       "3      F          51.0  1991-07-01         1      0.01  Midlands     Tin   \n",
       "4      A           4.0  1990-03-01         0      0.01  Midlands     Tin   \n",
       "\n",
       "   ORGYN  AFFL  LTIME  \n",
       "0      0  10.0    4.0  \n",
       "1      0   4.0    5.0  \n",
       "2      1   5.0    8.0  \n",
       "3      1  10.0    7.0  \n",
       "4      0  11.0    8.0  "
      ]
     },
     "execution_count": 15,
     "metadata": {},
     "output_type": "execute_result"
    }
   ],
   "source": [
    "df.head()"
   ]
  }
 ],
 "metadata": {
  "kernelspec": {
   "display_name": "Python 3",
   "language": "python",
   "name": "python3"
  },
  "language_info": {
   "codemirror_mode": {
    "name": "ipython",
    "version": 3
   },
   "file_extension": ".py",
   "mimetype": "text/x-python",
   "name": "python",
   "nbconvert_exporter": "python",
   "pygments_lexer": "ipython3",
   "version": "3.6.4"
  }
 },
 "nbformat": 4,
 "nbformat_minor": 2
}
