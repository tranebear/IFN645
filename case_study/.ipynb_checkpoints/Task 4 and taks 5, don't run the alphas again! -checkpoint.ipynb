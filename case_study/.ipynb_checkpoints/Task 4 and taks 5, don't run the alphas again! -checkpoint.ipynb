{
 "cells": [
  {
   "cell_type": "markdown",
   "metadata": {},
   "source": [
    "<h1>Task 4</h1>"
   ]
  },
  {
   "cell_type": "code",
   "execution_count": 3,
   "metadata": {},
   "outputs": [
    {
     "name": "stdout",
     "output_type": "stream",
     "text": [
      "<class 'pandas.core.frame.DataFrame'>\n",
      "RangeIndex: 22223 entries, 0 to 22222\n",
      "Data columns (total 36 columns):\n",
      "AGE                    22223 non-null float64\n",
      "ORGYN                  22223 non-null int64\n",
      "AFFL                   22223 non-null float64\n",
      "LTIME                  22223 non-null float64\n",
      "GENDER_F               22223 non-null uint8\n",
      "GENDER_M               22223 non-null uint8\n",
      "GENDER_U               22223 non-null uint8\n",
      "TV_REG_Border          22223 non-null uint8\n",
      "TV_REG_C Scotland      22223 non-null uint8\n",
      "TV_REG_East            22223 non-null uint8\n",
      "TV_REG_London          22223 non-null uint8\n",
      "TV_REG_Midlands        22223 non-null uint8\n",
      "TV_REG_N East          22223 non-null uint8\n",
      "TV_REG_N Scot          22223 non-null uint8\n",
      "TV_REG_N West          22223 non-null uint8\n",
      "TV_REG_S & S East      22223 non-null uint8\n",
      "TV_REG_S West          22223 non-null uint8\n",
      "TV_REG_Ulster          22223 non-null uint8\n",
      "TV_REG_Wales & West    22223 non-null uint8\n",
      "TV_REG_Yorkshire       22223 non-null uint8\n",
      "NGROUP_A               22223 non-null uint8\n",
      "NGROUP_B               22223 non-null uint8\n",
      "NGROUP_C               22223 non-null uint8\n",
      "NGROUP_D               22223 non-null uint8\n",
      "NGROUP_E               22223 non-null uint8\n",
      "NGROUP_F               22223 non-null uint8\n",
      "NGROUP_U               22223 non-null uint8\n",
      "REGION_Midlands        22223 non-null uint8\n",
      "REGION_North           22223 non-null uint8\n",
      "REGION_Scottish        22223 non-null uint8\n",
      "REGION_South East      22223 non-null uint8\n",
      "REGION_South West      22223 non-null uint8\n",
      "CLASS_Gold             22223 non-null uint8\n",
      "CLASS_Platinum         22223 non-null uint8\n",
      "CLASS_Silver           22223 non-null uint8\n",
      "CLASS_Tin              22223 non-null uint8\n",
      "dtypes: float64(3), int64(1), uint8(32)\n",
      "memory usage: 1.4 MB\n"
     ]
    }
   ],
   "source": [
    "# libraries\n",
    "import pandas as pd\n",
    "import numpy as np\n",
    "from sklearn.model_selection import train_test_split\n",
    "from sklearn.metrics import classification_report, accuracy_score\n",
    "from sklearn.model_selection import GridSearchCV\n",
    "from dm_tools import data_prep\n",
    "from sklearn.preprocessing import StandardScaler\n",
    "from sklearn.neural_network import MLPClassifier\n",
    "\n",
    "# preprocessing step\n",
    "df = data_prep()\n",
    "\n",
    "# random state\n",
    "rs = 10\n",
    "\n",
    "# train test split\n",
    "y = df['ORGYN']\n",
    "x = df.drop(['ORGYN'], axis=1)\n",
    "x_mat = x.as_matrix()\n",
    "x_train, x_test, y_train, y_test = train_test_split(x_mat, y, test_size=0.3, stratify=y, random_state=rs)\n",
    "\n",
    "scaler = StandardScaler()\n",
    "x_train = scaler.fit_transform(x_train, y_train)\n",
    "x_test = scaler.transform(x_test)\n",
    "\n",
    "df.info()"
   ]
  },
  {
   "cell_type": "code",
   "execution_count": 4,
   "metadata": {},
   "outputs": [],
   "source": [
    "#can get better results with skew"
   ]
  },
  {
   "cell_type": "markdown",
   "metadata": {},
   "source": [
    "<h1>Building neural network</h1>"
   ]
  },
  {
   "cell_type": "code",
   "execution_count": 39,
   "metadata": {},
   "outputs": [
    {
     "name": "stdout",
     "output_type": "stream",
     "text": [
      "Train accuracy: 0.8209694008742607\n",
      "Test accuracy: 0.8089095545222739\n",
      "             precision    recall  f1-score   support\n",
      "\n",
      "          0       0.83      0.95      0.88      5015\n",
      "          1       0.70      0.39      0.51      1652\n",
      "\n",
      "avg / total       0.80      0.81      0.79      6667\n",
      "\n",
      "MLPClassifier(activation='relu', alpha=0.0001, batch_size='auto', beta_1=0.9,\n",
      "       beta_2=0.999, early_stopping=False, epsilon=1e-08,\n",
      "       hidden_layer_sizes=(100,), learning_rate='constant',\n",
      "       learning_rate_init=0.001, max_iter=200, momentum=0.9,\n",
      "       nesterovs_momentum=True, power_t=0.5, random_state=10, shuffle=True,\n",
      "       solver='adam', tol=0.0001, validation_fraction=0.1, verbose=False,\n",
      "       warm_start=False)\n"
     ]
    }
   ],
   "source": [
    "model = MLPClassifier(random_state=rs)\n",
    "model.fit(x_train, y_train)\n",
    "\n",
    "print(\"Train accuracy:\", model.score(x_train, y_train))\n",
    "print(\"Test accuracy:\", model.score(x_test, y_test))\n",
    "\n",
    "y_pred = model.predict(x_test)\n",
    "print(classification_report(y_test, y_pred))\n",
    "\n",
    "print(model)"
   ]
  },
  {
   "cell_type": "code",
   "execution_count": 40,
   "metadata": {},
   "outputs": [
    {
     "name": "stdout",
     "output_type": "stream",
     "text": [
      "101\n"
     ]
    }
   ],
   "source": [
    "iterations = model.n_iter_\n",
    "print(iterations)"
   ]
  },
  {
   "cell_type": "code",
   "execution_count": 47,
   "metadata": {},
   "outputs": [
    {
     "name": "stdout",
     "output_type": "stream",
     "text": [
      "Train accuracy: 0.8209694008742607\n",
      "Test accuracy: 0.8089095545222739\n",
      "             precision    recall  f1-score   support\n",
      "\n",
      "          0       0.83      0.95      0.88      5015\n",
      "          1       0.70      0.39      0.51      1652\n",
      "\n",
      "avg / total       0.80      0.81      0.79      6667\n",
      "\n",
      "MLPClassifier(activation='relu', alpha=0.0001, batch_size='auto', beta_1=0.9,\n",
      "       beta_2=0.999, early_stopping=False, epsilon=1e-08,\n",
      "       hidden_layer_sizes=(100,), learning_rate='constant',\n",
      "       learning_rate_init=0.001, max_iter=101, momentum=0.9,\n",
      "       nesterovs_momentum=True, power_t=0.5, random_state=10, shuffle=True,\n",
      "       solver='adam', tol=0.0001, validation_fraction=0.1, verbose=False,\n",
      "       warm_start=False)\n"
     ]
    }
   ],
   "source": [
    "model = MLPClassifier(max_iter=101, random_state=rs)\n",
    "model.fit(x_train, y_train)\n",
    "\n",
    "print(\"Train accuracy:\", model.score(x_train, y_train))\n",
    "print(\"Test accuracy:\", model.score(x_test, y_test))\n",
    "\n",
    "y_pred = model.predict(x_test)\n",
    "print(classification_report(y_test, y_pred))\n",
    "\n",
    "print(model)"
   ]
  },
  {
   "cell_type": "code",
   "execution_count": 10,
   "metadata": {},
   "outputs": [
    {
     "name": "stdout",
     "output_type": "stream",
     "text": [
      "(15556, 35)\n"
     ]
    }
   ],
   "source": [
    "print(x_train.shape)"
   ]
  },
  {
   "cell_type": "markdown",
   "metadata": {},
   "source": [
    "<h3>Hidden layer</h3>"
   ]
  },
  {
   "cell_type": "code",
   "execution_count": 11,
   "metadata": {},
   "outputs": [
    {
     "name": "stdout",
     "output_type": "stream",
     "text": [
      "Train accuracy: 0.8098482900488557\n",
      "Test accuracy: 0.8146092695365231\n",
      "             precision    recall  f1-score   support\n",
      "\n",
      "          0       0.83      0.94      0.88      5015\n",
      "          1       0.71      0.42      0.53      1652\n",
      "\n",
      "avg / total       0.80      0.81      0.80      6667\n",
      "\n",
      "{'hidden_layer_sizes': (5,)}\n"
     ]
    }
   ],
   "source": [
    "params = {'hidden_layer_sizes': [(x,) for x in range(5, 86, 20)]}\n",
    "\n",
    "cv = GridSearchCV(param_grid=params, estimator=MLPClassifier(random_state=rs), cv=10)\n",
    "cv.fit(x_train, y_train)\n",
    "\n",
    "print(\"Train accuracy:\", cv.score(x_train, y_train))\n",
    "print(\"Test accuracy:\", cv.score(x_test, y_test))\n",
    "\n",
    "y_pred = cv.predict(x_test)\n",
    "print(classification_report(y_test, y_pred))\n",
    "\n",
    "print(cv.best_params_)"
   ]
  },
  {
   "cell_type": "code",
   "execution_count": 52,
   "metadata": {},
   "outputs": [
    {
     "name": "stdout",
     "output_type": "stream",
     "text": [
      "Train accuracy: 0.8098482900488557\n",
      "Test accuracy: 0.8146092695365231\n",
      "             precision    recall  f1-score   support\n",
      "\n",
      "          0       0.83      0.94      0.88      5015\n",
      "          1       0.71      0.42      0.53      1652\n",
      "\n",
      "avg / total       0.80      0.81      0.80      6667\n",
      "\n",
      "MLPClassifier(activation='relu', alpha=0.0001, batch_size='auto', beta_1=0.9,\n",
      "       beta_2=0.999, early_stopping=False, epsilon=1e-08,\n",
      "       hidden_layer_sizes=(5,), learning_rate='constant',\n",
      "       learning_rate_init=0.001, max_iter=200, momentum=0.9,\n",
      "       nesterovs_momentum=True, power_t=0.5, random_state=10, shuffle=True,\n",
      "       solver='adam', tol=0.0001, validation_fraction=0.1, verbose=False,\n",
      "       warm_start=False)\n"
     ]
    }
   ],
   "source": [
    "model2 = MLPClassifier(hidden_layer_sizes=(5,), random_state=rs)\n",
    "model2.fit(x_train, y_train)\n",
    "\n",
    "print(\"Train accuracy:\", model2.score(x_train, y_train))\n",
    "print(\"Test accuracy:\", model2.score(x_test, y_test))\n",
    "\n",
    "y_pred = model2.predict(x_test)\n",
    "print(classification_report(y_test, y_pred))\n",
    "\n",
    "print(model2)"
   ]
  },
  {
   "cell_type": "code",
   "execution_count": 53,
   "metadata": {},
   "outputs": [
    {
     "name": "stdout",
     "output_type": "stream",
     "text": [
      "58\n"
     ]
    }
   ],
   "source": [
    "iterations = model2.n_iter_\n",
    "print(iterations)"
   ]
  },
  {
   "cell_type": "code",
   "execution_count": 13,
   "metadata": {},
   "outputs": [
    {
     "name": "stdout",
     "output_type": "stream",
     "text": [
      "Train accuracy: 0.8103625610696837\n",
      "Test accuracy: 0.8147592620368982\n",
      "             precision    recall  f1-score   support\n",
      "\n",
      "          0       0.83      0.95      0.88      5015\n",
      "          1       0.72      0.41      0.52      1652\n",
      "\n",
      "avg / total       0.80      0.81      0.80      6667\n",
      "\n",
      "{'hidden_layer_sizes': (3,)}\n"
     ]
    }
   ],
   "source": [
    "# new parameters\n",
    "params = {'hidden_layer_sizes': [(3,), (5,), (7,), (9,)]}\n",
    "\n",
    "cv = GridSearchCV(param_grid=params, estimator=MLPClassifier(random_state=rs), cv=10)\n",
    "cv.fit(x_train, y_train)\n",
    "\n",
    "print(\"Train accuracy:\", cv.score(x_train, y_train))\n",
    "print(\"Test accuracy:\", cv.score(x_test, y_test))\n",
    "\n",
    "y_pred = cv.predict(x_test)\n",
    "print(classification_report(y_test, y_pred))\n",
    "\n",
    "print(cv.best_params_)"
   ]
  },
  {
   "cell_type": "code",
   "execution_count": 14,
   "metadata": {
    "scrolled": true
   },
   "outputs": [
    {
     "name": "stdout",
     "output_type": "stream",
     "text": [
      "Train accuracy: 0.8099125739264592\n",
      "Test accuracy: 0.8147592620368982\n",
      "             precision    recall  f1-score   support\n",
      "\n",
      "          0       0.83      0.95      0.88      5015\n",
      "          1       0.72      0.41      0.52      1652\n",
      "\n",
      "avg / total       0.80      0.81      0.80      6667\n",
      "\n",
      "{'alpha': 0.001, 'hidden_layer_sizes': (3,)}\n"
     ]
    }
   ],
   "source": [
    "params = {'hidden_layer_sizes': [(3,), (5,), (7,), (9,)], 'alpha': [0.01,0.001, 0.0001, 0.00001]}\n",
    "\n",
    "cv = GridSearchCV(param_grid=params, estimator=MLPClassifier(random_state=rs), cv=10,)\n",
    "cv.fit(x_train, y_train)\n",
    "\n",
    "print(\"Train accuracy:\", cv.score(x_train, y_train))\n",
    "print(\"Test accuracy:\", cv.score(x_test, y_test))\n",
    "\n",
    "y_pred = cv.predict(x_test)\n",
    "print(classification_report(y_test, y_pred))\n",
    "\n",
    "print(cv.best_params_)"
   ]
  },
  {
   "cell_type": "code",
   "execution_count": 54,
   "metadata": {},
   "outputs": [
    {
     "name": "stdout",
     "output_type": "stream",
     "text": [
      "Train accuracy: 0.8099125739264592\n",
      "Test accuracy: 0.8147592620368982\n",
      "             precision    recall  f1-score   support\n",
      "\n",
      "          0       0.83      0.95      0.88      5015\n",
      "          1       0.70      0.39      0.51      1652\n",
      "\n",
      "avg / total       0.80      0.81      0.79      6667\n",
      "\n",
      "MLPClassifier(activation='relu', alpha=0.001, batch_size='auto', beta_1=0.9,\n",
      "       beta_2=0.999, early_stopping=False, epsilon=1e-08,\n",
      "       hidden_layer_sizes=(3,), learning_rate='constant',\n",
      "       learning_rate_init=0.001, max_iter=200, momentum=0.9,\n",
      "       nesterovs_momentum=True, power_t=0.5, random_state=10, shuffle=True,\n",
      "       solver='adam', tol=0.0001, validation_fraction=0.1, verbose=False,\n",
      "       warm_start=False)\n"
     ]
    }
   ],
   "source": [
    "model3 = MLPClassifier(hidden_layer_sizes=(3,), random_state=rs, alpha = 0.001)\n",
    "model3.fit(x_train, y_train)\n",
    "\n",
    "print(\"Train accuracy:\", model3.score(x_train, y_train))\n",
    "print(\"Test accuracy:\", model3.score(x_test, y_test))\n",
    "\n",
    "y_pred = model.predict(x_test)\n",
    "print(classification_report(y_test, y_pred))\n",
    "\n",
    "print(model3)"
   ]
  },
  {
   "cell_type": "code",
   "execution_count": 55,
   "metadata": {},
   "outputs": [
    {
     "name": "stdout",
     "output_type": "stream",
     "text": [
      "43\n"
     ]
    }
   ],
   "source": [
    "iterations = model3.n_iter_\n",
    "print(iterations)"
   ]
  },
  {
   "cell_type": "markdown",
   "metadata": {},
   "source": [
    "<h3> Log transformation </h3>"
   ]
  },
  {
   "cell_type": "code",
   "execution_count": 15,
   "metadata": {},
   "outputs": [],
   "source": [
    "import numpy as np\n",
    "\n",
    "# list columns to be transformed\n",
    "columns_to_transform = ['AFFL', 'LTIME']\n",
    "\n",
    "# copy the dataframe\n",
    "df_log = df.copy()\n",
    "\n",
    "# transform the columns with np.log\n",
    "for col in columns_to_transform:\n",
    "    df_log[col] = df_log[col].apply(lambda x: x+1)\n",
    "    df_log[col] = df_log[col].apply(np.log)\n",
    "    \n",
    "# create X, y and train test data partitions\n",
    "y_log = df_log['ORGYN']\n",
    "x_log = df_log.drop(['ORGYN'], axis=1)\n",
    "x_mat_log = x_log.as_matrix()\n",
    "x_train_log, x_test_log, y_train_log, y_test_log = train_test_split(x_mat_log, y_log, test_size=0.3, stratify=y_log, \n",
    "                                                                    random_state=rs)\n",
    "\n",
    "# standardise them again\n",
    "scaler_log = StandardScaler()\n",
    "x_train_log = scaler_log.fit_transform(x_train_log, y_train_log)\n",
    "x_test_log = scaler_log.transform(x_test_log)"
   ]
  },
  {
   "cell_type": "code",
   "execution_count": 16,
   "metadata": {},
   "outputs": [
    {
     "name": "stdout",
     "output_type": "stream",
     "text": [
      "Train accuracy: 0.8106196965800977\n",
      "Test accuracy: 0.8131093445327734\n",
      "             precision    recall  f1-score   support\n",
      "\n",
      "          0       0.83      0.95      0.88      5015\n",
      "          1       0.71      0.41      0.52      1652\n",
      "\n",
      "avg / total       0.80      0.81      0.79      6667\n",
      "\n",
      "{'alpha': 0.01, 'hidden_layer_sizes': (3,)}\n"
     ]
    }
   ],
   "source": [
    "params = {'hidden_layer_sizes': [(3,), (5,), (7,), (9,)], 'alpha': [0.01,0.001, 0.0001, 0.00001]}\n",
    "\n",
    "cv = GridSearchCV(param_grid=params, estimator=MLPClassifier(random_state=rs), cv=10)\n",
    "cv.fit(x_train_log, y_train_log)\n",
    "\n",
    "print(\"Train accuracy:\", cv.score(x_train_log, y_train_log))\n",
    "print(\"Test accuracy:\", cv.score(x_test_log, y_test_log))\n",
    "\n",
    "y_pred = cv.predict(x_test_log)\n",
    "print(classification_report(y_test_log, y_pred))\n",
    "\n",
    "print(cv.best_params_)"
   ]
  },
  {
   "cell_type": "markdown",
   "metadata": {},
   "source": [
    "<h3>RFE</h3>"
   ]
  },
  {
   "cell_type": "code",
   "execution_count": 80,
   "metadata": {},
   "outputs": [
    {
     "name": "stdout",
     "output_type": "stream",
     "text": [
      "5\n"
     ]
    }
   ],
   "source": [
    "from sklearn.feature_selection import RFECV\n",
    "from sklearn.linear_model import LogisticRegression\n",
    "\n",
    "rfe = RFECV(estimator = LogisticRegression(random_state=rs), cv=10)\n",
    "rfe.fit(x_train_log, y_train_log)\n",
    "\n",
    "print(rfe.n_features_)"
   ]
  },
  {
   "cell_type": "code",
   "execution_count": 81,
   "metadata": {},
   "outputs": [
    {
     "name": "stdout",
     "output_type": "stream",
     "text": [
      "Train accuracy: 0.8113911031113397\n",
      "Test accuracy: 0.8174591270436479\n",
      "             precision    recall  f1-score   support\n",
      "\n",
      "          0       0.83      0.95      0.89      5015\n",
      "          1       0.72      0.43      0.54      1652\n",
      "\n",
      "avg / total       0.81      0.82      0.80      6667\n",
      "\n",
      "{'alpha': 0.001, 'hidden_layer_sizes': (7,)}\n"
     ]
    }
   ],
   "source": [
    "# transform log \n",
    "x_train_rfe = rfe.transform(x_train_log)\n",
    "x_test_rfe = rfe.transform(x_test_log)\n",
    "\n",
    "# step = int((X_train_rfe.shape[1] + 5)/5);\n",
    "params = {'hidden_layer_sizes': [(3,), (5,), (7,), (9,)], 'alpha': [0.01,0.001, 0.0001, 0.00001]}\n",
    "\n",
    "cv = GridSearchCV(param_grid=params, estimator=MLPClassifier(random_state=rs), cv=10)\n",
    "cv.fit(x_train_rfe, y_train_log)\n",
    "\n",
    "print(\"Train accuracy:\", cv.score(x_train_rfe, y_train_log))\n",
    "print(\"Test accuracy:\", cv.score(x_test_rfe, y_test_log))\n",
    "\n",
    "y_pred = cv.predict(x_test_rfe)\n",
    "print(classification_report(y_test_log, y_pred))\n",
    "\n",
    "print(cv.best_params_)"
   ]
  },
  {
   "cell_type": "code",
   "execution_count": 82,
   "metadata": {},
   "outputs": [
    {
     "data": {
      "text/plain": [
       "LogisticRegression(C=1.0, class_weight=None, dual=False, fit_intercept=True,\n",
       "          intercept_scaling=1, max_iter=100, multi_class='ovr', n_jobs=1,\n",
       "          penalty='l2', random_state=10, solver='liblinear', tol=0.0001,\n",
       "          verbose=0, warm_start=False)"
      ]
     },
     "execution_count": 82,
     "metadata": {},
     "output_type": "execute_result"
    }
   ],
   "source": [
    "#Training model\n",
    "model_rfe = LogisticRegression(random_state=rs)\n",
    "\n",
    "# fit it to training data\n",
    "model_rfe.fit(x_train_rfe, y_train_log)"
   ]
  },
  {
   "cell_type": "code",
   "execution_count": 83,
   "metadata": {},
   "outputs": [
    {
     "name": "stdout",
     "output_type": "stream",
     "text": [
      "AFFL : 0.8508596998119665\n",
      "AGE : -0.6665423104370233\n",
      "GENDER_M : -0.39035606439382287\n",
      "LTIME : 0.3844193592509279\n",
      "GENDER_F : -0.08547623714957651\n"
     ]
    }
   ],
   "source": [
    "# grab feature importances from the model and feature name from the original X\n",
    "coef = model_rfe.coef_[0]\n",
    "feature_names = x.columns\n",
    "\n",
    "# sort them out in descending order\n",
    "indices = np.argsort(np.absolute(coef))\n",
    "indices = np.flip(indices, axis=0)\n",
    "\n",
    "# limit to 20 features, you can leave this out to print out everything\n",
    "indices = indices[:100]\n",
    "\n",
    "for i in indices:\n",
    "    print(feature_names[i], ':', coef[i])"
   ]
  },
  {
   "cell_type": "markdown",
   "metadata": {},
   "source": [
    "<h3> Selecting using decision tree </h3>"
   ]
  },
  {
   "cell_type": "code",
   "execution_count": 90,
   "metadata": {},
   "outputs": [
    {
     "data": {
      "text/plain": [
       "GridSearchCV(cv=10, error_score='raise',\n",
       "       estimator=DecisionTreeClassifier(class_weight=None, criterion='gini', max_depth=None,\n",
       "            max_features=None, max_leaf_nodes=None,\n",
       "            min_impurity_decrease=0.0, min_impurity_split=None,\n",
       "            min_samples_leaf=1, min_samples_split=2,\n",
       "            min_weight_fraction_leaf=0.0, presort=False, random_state=10,\n",
       "            splitter='best'),\n",
       "       fit_params=None, iid=True, n_jobs=1,\n",
       "       param_grid={'criterion': ['gini', 'entropy'], 'max_depth': range(3, 8), 'min_samples_leaf': range(20, 61, 10)},\n",
       "       pre_dispatch='2*n_jobs', refit=True, return_train_score='warn',\n",
       "       scoring=None, verbose=0)"
      ]
     },
     "execution_count": 90,
     "metadata": {},
     "output_type": "execute_result"
    }
   ],
   "source": [
    "from sklearn.tree import DecisionTreeClassifier\n",
    "\n",
    "params = {'criterion': ['gini', 'entropy'],\n",
    "          'max_depth': range(3, 8),\n",
    "          'min_samples_leaf': range(20, 61, 10)}\n",
    "\n",
    "cv = GridSearchCV(param_grid=params, estimator=DecisionTreeClassifier(random_state=rs), cv=10)\n",
    "cv.fit(x_train_log, y_train_log)"
   ]
  },
  {
   "cell_type": "code",
   "execution_count": 91,
   "metadata": {},
   "outputs": [
    {
     "name": "stdout",
     "output_type": "stream",
     "text": [
      "AGE : 0.4604840471690019\n",
      "AFFL : 0.3459657735007613\n",
      "GENDER_F : 0.1849788387302646\n",
      "GENDER_M : 0.008571340599972204\n",
      "TV_REG_London : 0.0\n",
      "TV_REG_S & S East : 0.0\n",
      "TV_REG_N West : 0.0\n",
      "TV_REG_N Scot : 0.0\n",
      "TV_REG_N East : 0.0\n",
      "TV_REG_Midlands : 0.0\n",
      "TV_REG_C Scotland : 0.0\n",
      "TV_REG_East : 0.0\n",
      "TV_REG_Ulster : 0.0\n",
      "TV_REG_Border : 0.0\n",
      "GENDER_U : 0.0\n",
      "LTIME : 0.0\n",
      "TV_REG_S West : 0.0\n",
      "CLASS_Tin : 0.0\n",
      "CLASS_Silver : 0.0\n",
      "REGION_Midlands : 0.0\n"
     ]
    }
   ],
   "source": [
    "from dm_tools import analyse_feature_importance\n",
    "\n",
    "analyse_feature_importance(cv.best_estimator_, x_log.columns)"
   ]
  },
  {
   "cell_type": "code",
   "execution_count": 92,
   "metadata": {},
   "outputs": [
    {
     "name": "stdout",
     "output_type": "stream",
     "text": [
      "(15556, 3)\n"
     ]
    }
   ],
   "source": [
    "from sklearn.feature_selection import SelectFromModel\n",
    "\n",
    "selectmodel = SelectFromModel(cv.best_estimator_, prefit=True)\n",
    "x_train_sel_model = selectmodel.transform(x_train_log)\n",
    "x_test_sel_model = selectmodel.transform(x_test_log)\n",
    "\n",
    "print(x_train_sel_model.shape)"
   ]
  },
  {
   "cell_type": "code",
   "execution_count": 93,
   "metadata": {},
   "outputs": [
    {
     "data": {
      "text/plain": [
       "DecisionTreeClassifier(class_weight=None, criterion='gini', max_depth=None,\n",
       "            max_features=None, max_leaf_nodes=None,\n",
       "            min_impurity_decrease=0.0, min_impurity_split=None,\n",
       "            min_samples_leaf=1, min_samples_split=2,\n",
       "            min_weight_fraction_leaf=0.0, presort=False, random_state=10,\n",
       "            splitter='best')"
      ]
     },
     "execution_count": 93,
     "metadata": {},
     "output_type": "execute_result"
    }
   ],
   "source": [
    "model_sel_model = DecisionTreeClassifier(random_state = rs)\n",
    "model_sel_model.fit(x_train_sel_model, y_train_log)"
   ]
  },
  {
   "cell_type": "code",
   "execution_count": 94,
   "metadata": {},
   "outputs": [
    {
     "name": "stdout",
     "output_type": "stream",
     "text": [
      "AGE : 0.546750238756825\n",
      "AFFL : 0.33386261971829684\n",
      "LTIME : 0.1193871415248782\n"
     ]
    }
   ],
   "source": [
    "analyse_feature_importance(model_sel_model, x_log.columns)"
   ]
  },
  {
   "cell_type": "code",
   "execution_count": 95,
   "metadata": {},
   "outputs": [
    {
     "name": "stdout",
     "output_type": "stream",
     "text": [
      "Train accuracy: 0.8110696837233222\n",
      "Test accuracy: 0.8173091345432728\n",
      "             precision    recall  f1-score   support\n",
      "\n",
      "          0       0.83      0.95      0.89      5015\n",
      "          1       0.73      0.42      0.53      1652\n",
      "\n",
      "avg / total       0.81      0.82      0.80      6667\n",
      "\n",
      "{'alpha': 0.01, 'hidden_layer_sizes': (9,)}\n"
     ]
    }
   ],
   "source": [
    "params = {'hidden_layer_sizes': [(3,), (5,), (7,), (9,)], 'alpha': [0.01,0.001, 0.0001, 0.00001]}\n",
    "\n",
    "cv = GridSearchCV(param_grid=params, estimator=MLPClassifier(random_state=rs), cv=10)\n",
    "cv.fit(x_train_sel_model, y_train)\n",
    "\n",
    "print(\"Train accuracy:\", cv.score(x_train_sel_model, y_train))\n",
    "print(\"Test accuracy:\", cv.score(x_test_sel_model, y_test))\n",
    "\n",
    "y_pred = cv.predict(x_test_sel_model)\n",
    "print(classification_report(y_test, y_pred))\n",
    "\n",
    "print(cv.best_params_)"
   ]
  },
  {
   "cell_type": "markdown",
   "metadata": {},
   "source": [
    "<h2>Comparing models</h2>"
   ]
  },
  {
   "cell_type": "code",
   "execution_count": 24,
   "metadata": {},
   "outputs": [
    {
     "name": "stdout",
     "output_type": "stream",
     "text": [
      "DecisionTreeClassifier(class_weight=None, criterion='gini', max_depth=4,\n",
      "            max_features=None, max_leaf_nodes=None,\n",
      "            min_impurity_decrease=0.0, min_impurity_split=None,\n",
      "            min_samples_leaf=55, min_samples_split=2,\n",
      "            min_weight_fraction_leaf=0.0, presort=False, random_state=10,\n",
      "            splitter='best')\n",
      "LogisticRegression(C=0.01, class_weight=None, dual=False, fit_intercept=True,\n",
      "          intercept_scaling=1, max_iter=100, multi_class='ovr', n_jobs=1,\n",
      "          penalty='l2', random_state=10, solver='liblinear', tol=0.0001,\n",
      "          verbose=0, warm_start=False)\n",
      "MLPClassifier(activation='relu', alpha=0.001, batch_size='auto', beta_1=0.9,\n",
      "       beta_2=0.999, early_stopping=False, epsilon=1e-08,\n",
      "       hidden_layer_sizes=(3,), learning_rate='constant',\n",
      "       learning_rate_init=0.001, max_iter=500, momentum=0.9,\n",
      "       nesterovs_momentum=True, power_t=0.5, random_state=10, shuffle=True,\n",
      "       solver='adam', tol=0.0001, validation_fraction=0.1, verbose=False,\n",
      "       warm_start=False)\n"
     ]
    }
   ],
   "source": [
    "# grid search CV for decision tree\n",
    "params_dt = {'criterion': ['gini'],\n",
    "          'max_depth': range(2, 5),\n",
    "          'min_samples_leaf': range(40, 61, 5)}\n",
    "\n",
    "cv = GridSearchCV(param_grid=params_dt, estimator=DecisionTreeClassifier(random_state=rs), cv=10)\n",
    "cv.fit(x_train, y_train)\n",
    "\n",
    "dt_model = cv.best_estimator_\n",
    "print(dt_model)\n",
    "\n",
    "# grid search CV for logistic regression\n",
    "params_log_reg = {'C': [pow(10, x) for x in range(-6, 4)]}\n",
    "\n",
    "cv = GridSearchCV(param_grid=params_log_reg, estimator=LogisticRegression(random_state=rs), cv=10)\n",
    "cv.fit(x_train, y_train)\n",
    "\n",
    "log_reg_model = cv.best_estimator_\n",
    "print(log_reg_model)\n",
    "\n",
    "# grid search CV for NN\n",
    "params_nn = {'hidden_layer_sizes': [(3,), (5,), (7,), (9,)], 'alpha': [0.01,0.001, 0.0001, 0.00001]}\n",
    "\n",
    "cv = GridSearchCV(param_grid=params_nn, estimator=MLPClassifier(max_iter=500, random_state=rs), cv=10)\n",
    "cv.fit(x_train, y_train)\n",
    "\n",
    "nn_model = cv.best_estimator_\n",
    "print(nn_model)"
   ]
  },
  {
   "cell_type": "markdown",
   "metadata": {},
   "source": [
    "<h3>Test accuracy</h3>"
   ]
  },
  {
   "cell_type": "code",
   "execution_count": 26,
   "metadata": {},
   "outputs": [
    {
     "name": "stdout",
     "output_type": "stream",
     "text": [
      "Accuracy score on test for DT: 0.8108594570271487\n",
      "Accuracy score on test for logistic regression: 0.8137093145342733\n",
      "Accuracy score on test for NN: 0.8147592620368982\n"
     ]
    }
   ],
   "source": [
    "y_pred_dt = dt_model.predict(x_test)\n",
    "y_pred_log_reg = log_reg_model.predict(x_test)\n",
    "y_pred_nn = nn_model.predict(x_test)\n",
    "\n",
    "print(\"Accuracy score on test for DT:\", accuracy_score(y_test, y_pred_dt))\n",
    "print(\"Accuracy score on test for logistic regression:\", accuracy_score(y_test, y_pred_log_reg))\n",
    "print(\"Accuracy score on test for NN:\", accuracy_score(y_test, y_pred_nn))"
   ]
  },
  {
   "cell_type": "markdown",
   "metadata": {},
   "source": [
    "### The Area under an ROC curve (ROC AUC)"
   ]
  },
  {
   "cell_type": "code",
   "execution_count": 27,
   "metadata": {},
   "outputs": [
    {
     "name": "stdout",
     "output_type": "stream",
     "text": [
      "Probability produced by decision tree for each class vs actual prediction on TargetB (0 = non-donor, 1 = donor). You should be able to see the default threshold of 0.5.\n",
      "(Probs on zero)\t(probs on one)\t(prediction made)\n",
      "0.3715545755237045 \t 0.6284454244762955 \t 1\n",
      "0.9515121219695076 \t 0.04848787803049238 \t 0\n",
      "0.7490297542043984 \t 0.25097024579560157 \t 0\n",
      "0.7490297542043984 \t 0.25097024579560157 \t 0\n",
      "0.7490297542043984 \t 0.25097024579560157 \t 0\n",
      "0.3715545755237045 \t 0.6284454244762955 \t 1\n",
      "0.8915073365940418 \t 0.1084926634059582 \t 0\n",
      "0.8915073365940418 \t 0.1084926634059582 \t 0\n",
      "0.47703180212014135 \t 0.5229681978798587 \t 1\n",
      "0.7490297542043984 \t 0.25097024579560157 \t 0\n",
      "0.8897700237906423 \t 0.11022997620935765 \t 0\n",
      "0.7757255936675461 \t 0.22427440633245382 \t 0\n",
      "0.9515121219695076 \t 0.04848787803049238 \t 0\n",
      "0.7490297542043984 \t 0.25097024579560157 \t 0\n",
      "0.8476190476190476 \t 0.1523809523809524 \t 0\n",
      "0.24166666666666667 \t 0.7583333333333333 \t 1\n",
      "0.5949177877428998 \t 0.40508221225710017 \t 0\n",
      "0.6875 \t 0.3125 \t 0\n",
      "0.3715545755237045 \t 0.6284454244762955 \t 1\n",
      "0.1553398058252427 \t 0.8446601941747572 \t 1\n"
     ]
    }
   ],
   "source": [
    "# typical prediction\n",
    "y_pred = dt_model.predict(x_test)\n",
    "\n",
    "# probability prediction from decision tree\n",
    "y_pred_proba_dt = dt_model.predict_proba(x_test)\n",
    "\n",
    "print(\"Probability produced by decision tree for each class vs actual prediction on TargetB (0 = non-donor, 1 = donor). You should be able to see the default threshold of 0.5.\")\n",
    "print(\"(Probs on zero)\\t(probs on one)\\t(prediction made)\")\n",
    "# print top 10\n",
    "for i in range(20):\n",
    "    print(y_pred_proba_dt[i][0], '\\t', y_pred_proba_dt[i][1], '\\t', y_pred[i])"
   ]
  },
  {
   "cell_type": "code",
   "execution_count": 28,
   "metadata": {},
   "outputs": [
    {
     "name": "stdout",
     "output_type": "stream",
     "text": [
      "ROC index on test for DT: 0.8068155702384372\n",
      "ROC index on test for logistic regression: 0.8096659778533648\n",
      "ROC index on test for NN: 0.8117872170413698\n"
     ]
    }
   ],
   "source": [
    "from sklearn.metrics import roc_auc_score\n",
    "\n",
    "y_pred_proba_dt = dt_model.predict_proba(x_test)\n",
    "y_pred_proba_log_reg = log_reg_model.predict_proba(x_test)\n",
    "y_pred_proba_nn = nn_model.predict_proba(x_test)\n",
    "\n",
    "roc_index_dt = roc_auc_score(y_test, y_pred_proba_dt[:, 1])\n",
    "roc_index_log_reg = roc_auc_score(y_test, y_pred_proba_log_reg[:, 1])\n",
    "roc_index_nn = roc_auc_score(y_test, y_pred_proba_nn[:, 1])\n",
    "\n",
    "print(\"ROC index on test for DT:\", roc_index_dt)\n",
    "print(\"ROC index on test for logistic regression:\", roc_index_log_reg)\n",
    "print(\"ROC index on test for NN:\", roc_index_nn)"
   ]
  },
  {
   "cell_type": "code",
   "execution_count": 29,
   "metadata": {},
   "outputs": [],
   "source": [
    "from sklearn.metrics import roc_curve\n",
    "\n",
    "fpr_dt, tpr_dt, thresholds_dt = roc_curve(y_test, y_pred_proba_dt[:,1])\n",
    "fpr_log_reg, tpr_log_reg, thresholds_log_reg = roc_curve(y_test, y_pred_proba_log_reg[:,1])\n",
    "fpr_nn, tpr_nn, thresholds_nn = roc_curve(y_test, y_pred_proba_nn[:,1])"
   ]
  },
  {
   "cell_type": "code",
   "execution_count": 31,
   "metadata": {},
   "outputs": [
    {
     "data": {
      "image/png": "[encoded data removed]",
      "text/plain": [
       "<matplotlib.figure.Figure at 0x1a0dc01fd0>"
      ]
     },
     "metadata": {},
     "output_type": "display_data"
    }
   ],
   "source": [
    "import matplotlib.pyplot as plt\n",
    "\n",
    "plt.plot(fpr_dt, tpr_dt, label='ROC Curve for DT {:.3f}'.format(roc_index_dt), color='red', lw=0.5)\n",
    "plt.plot(fpr_log_reg, tpr_log_reg, label='ROC Curve for Log reg {:.3f}'.format(roc_index_log_reg), color='green', lw=0.5)\n",
    "plt.plot(fpr_nn, tpr_nn, label='ROC Curve for NN {:.3f}'.format(roc_index_nn), color='darkorange', lw=0.5)\n",
    "\n",
    "# plt.plot(fpr[2], tpr[2], color='darkorange',\n",
    "#          lw=lw, label='ROC curve (area = %0.2f)' % roc_auc[2])\n",
    "plt.plot([0, 1], [0, 1], color='navy', lw=0.5, linestyle='--')\n",
    "plt.xlim([0.0, 1.0])\n",
    "plt.ylim([0.0, 1.0])\n",
    "plt.xlabel('False Positive Rate')\n",
    "plt.ylabel('True Positive Rate')\n",
    "plt.title('Receiver operating characteristic example')\n",
    "plt.legend(loc=\"lower right\")\n",
    "plt.show()"
   ]
  },
  {
   "cell_type": "markdown",
   "metadata": {},
   "source": [
    "# Task 5"
   ]
  },
  {
   "cell_type": "code",
   "execution_count": 32,
   "metadata": {},
   "outputs": [],
   "source": [
    "# import the model\n",
    "from sklearn.ensemble import VotingClassifier\n",
    "\n",
    "# initialise the classifier with 3 different estimators\n",
    "voting = VotingClassifier(estimators=[('dt', dt_model), ('lr', log_reg_model), ('nn', nn_model)], voting='soft')"
   ]
  },
  {
   "cell_type": "code",
   "execution_count": 34,
   "metadata": {},
   "outputs": [
    {
     "name": "stdout",
     "output_type": "stream",
     "text": [
      "Ensemble train accuracy: 0.8140910259706865\n",
      "Ensemble test accuracy: 0.8213589320533974\n",
      "ROC score of voting classifier: 0.8187988697346217\n"
     ]
    },
    {
     "name": "stderr",
     "output_type": "stream",
     "text": [
      "/anaconda3/lib/python3.6/site-packages/sklearn/preprocessing/label.py:151: DeprecationWarning: The truth value of an empty array is ambiguous. Returning False, but in future this will result in an error. Use `array.size > 0` to check that an array is not empty.\n",
      "  if diff:\n",
      "/anaconda3/lib/python3.6/site-packages/sklearn/preprocessing/label.py:151: DeprecationWarning: The truth value of an empty array is ambiguous. Returning False, but in future this will result in an error. Use `array.size > 0` to check that an array is not empty.\n",
      "  if diff:\n"
     ]
    }
   ],
   "source": [
    "# fit the voting classifier to training data\n",
    "voting.fit(x_train, y_train)\n",
    "\n",
    "# evaluate train and test accuracy\n",
    "print(\"Ensemble train accuracy:\", voting.score(x_train, y_train))\n",
    "print(\"Ensemble test accuracy:\", voting.score(x_test, y_test))\n",
    "\n",
    "# evaluate ROC auc score\n",
    "y_pred_proba_ensemble = voting.predict_proba(x_test)\n",
    "roc_index_ensemble = roc_auc_score(y_test, y_pred_proba_ensemble[:, 1])\n",
    "print(\"ROC score of voting classifier:\", roc_index_ensemble)"
   ]
  },
  {
   "cell_type": "code",
   "execution_count": null,
   "metadata": {},
   "outputs": [],
   "source": []
  }
 ],
 "metadata": {
  "kernelspec": {
   "display_name": "Python 3",
   "language": "python",
   "name": "python3"
  },
  "language_info": {
   "codemirror_mode": {
    "name": "ipython",
    "version": 3
   },
   "file_extension": ".py",
   "mimetype": "text/x-python",
   "name": "python",
   "nbconvert_exporter": "python",
   "pygments_lexer": "ipython3",
   "version": "3.6.4"
  }
 },
 "nbformat": 4,
 "nbformat_minor": 2
}
