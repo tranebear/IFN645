{
 "cells": [
  {
   "cell_type": "markdown",
   "metadata": {},
   "source": [
    "# Practical 2: Data Preparation\n",
    "\n",
    "### In this practical\n",
    "1. [Resuming from practical 1](#resume)\n",
    "2. [Exploring data](#explore)\n",
    "3. [Modifying and correcting data](#moddata)\n",
    "---\n",
    "\n",
    "**Written by Hendi Lie (h2.lie@qut.edu.au) and Richi Nayak (r.nayak@qut.edu.au). All rights reserved.**\n",
    "\n",
    "In practical 1, you installed Anaconda, learned how to import and view basic information about the **Veteran** dataset (e.g., data dimensionality) using the iPython interpreter. This practical note introduces you to more data insights functions to perform data preparation using Python libraries we installed earlier.\n",
    "\n",
    "Data preparation is the most important step in any data mining project. It determines the \"make or break\" of a data mining project and, it is estimated about 60% of your time will be spent on this stage. There are many processes that can be performed in data preparation, depending on the data type and algorithm of choice for modelling. In this practical, we will focus on the following steps:\n",
    "\n",
    "1. **Understanding data:** exploring and visualising data to gain initial insights and understanding.\n",
    "2. **Dealing with missing values:** missing values are detrimental to performance of data mining models.\n",
    "3. **Noise and errorneous data cleaning:** similar to missing values, they can also negatively impact data mining models and analysis.\n",
    "4. **Data formatting:** formatting data into a format suitable for the underlying algorithm and framework to be used. This includes setting correct roles and data types for variables based on their analytics purpose.\n",
    "\n",
    "## 1. Resuming from practical 1 <a name=\"resume\"></a>\n",
    "In previous practical, we learned about how to load the **Veteran** dataset and review overall information about fields in the dataset. Before we start this practical, ensure your code looks like this:"
   ]
  },
  {
   "cell_type": "code",
   "execution_count": 2,
   "metadata": {},
   "outputs": [
    {
     "name": "stdout",
     "output_type": "stream",
     "text": [
      "<class 'pandas.core.frame.DataFrame'>\n",
      "RangeIndex: 9686 entries, 0 to 9685\n",
      "Data columns (total 28 columns):\n",
      "TargetB             9686 non-null int64\n",
      "ID                  9686 non-null int64\n",
      "TargetD             4843 non-null float64\n",
      "GiftCnt36           9686 non-null int64\n",
      "GiftCntAll          9686 non-null int64\n",
      "GiftCntCard36       9686 non-null int64\n",
      "GiftCntCardAll      9686 non-null int64\n",
      "GiftAvgLast         9686 non-null float64\n",
      "GiftAvg36           9686 non-null float64\n",
      "GiftAvgAll          9686 non-null float64\n",
      "GiftAvgCard36       7906 non-null float64\n",
      "GiftTimeLast        9686 non-null int64\n",
      "GiftTimeFirst       9686 non-null int64\n",
      "PromCnt12           9686 non-null int64\n",
      "PromCnt36           9686 non-null int64\n",
      "PromCntAll          9686 non-null int64\n",
      "PromCntCard12       9686 non-null int64\n",
      "PromCntCard36       9686 non-null int64\n",
      "PromCntCardAll      9686 non-null int64\n",
      "StatusCat96NK       9686 non-null object\n",
      "StatusCatStarAll    9686 non-null int64\n",
      "DemCluster          9686 non-null int64\n",
      "DemAge              7279 non-null float64\n",
      "DemGender           9686 non-null object\n",
      "DemHomeOwner        9686 non-null object\n",
      "DemMedHomeValue     9686 non-null int64\n",
      "DemPctVeterans      9686 non-null int64\n",
      "DemMedIncome        9686 non-null int64\n",
      "dtypes: float64(6), int64(19), object(3)\n",
      "memory usage: 2.1+ MB\n",
      "None\n"
     ]
    }
   ],
   "source": [
    "import pandas as pd\n",
    "\n",
    "# read the veteran dataset\n",
    "df = pd.read_csv('datasets/veteran.csv')\n",
    "\n",
    "# show all columns information\n",
    "print(df.info())"
   ]
  },
  {
   "cell_type": "markdown",
   "metadata": {},
   "source": [
    "In predictive data mining process, there must be a target variable whose value is to be predicted. As discussed in the previous practical, in this dataset, we aim to classify whether a person is a lapsing donor or not, corresponding to **TargetB**. We are focusing on \"classification\" prediction mining. We are not interested in knowing the exact amount of donation that a person will make. In other words, we will not treat this problem as “regression“ prediction problem. Therefore, we will not need **TargetD** and it will be dropped from the dataset."
   ]
  },
  {
   "cell_type": "markdown",
   "metadata": {},
   "source": [
    "## 2. Exploring data<a name=\"explore\"></a>\n",
    "\n",
    "Exploring and validating content of your data is a vital part of the data preparation process. By assaying the prepared data, you substantially reduce the chances of errorneous results in your analysis and gain visual insights into associations between variables. This section will guide you to find these vital insights.\n",
    "\n",
    "Firstly, let's take a closer look on the dataset. The dataframe `.info()` output revealed a number of important information from the dataset:\n",
    "1. **Number of rows (or entries)**: 9686\n",
    "2. **Number of fields (or columns)**: 28\n",
    "3. **Number of entries and data type for each column**: e.g. 9686 entries and integer number for Target B; 7906 entries and floating point for GiftAvgCard36.\n",
    "\n",
    "From point three, we learned there are irregularities in some columns. For example, with 9686 rows in the whole dataset, there are only 7906 data points in `GiftAvgCard36`. This requires a deeper investigation of each column.\n",
    "\n",
    "### 2.1. Explore column data\n",
    "\n",
    "Assume we would like to investigate the `DemAge` column of this dataset in depth. Recall, a column in Pandas is called a Series, and there are many functions providing insights on the characteristic and distribution of the data.\n",
    "\n",
    "> #### Essential functions for data exploration in Pandas\n",
    "\n",
    "> * Function **pandas.Series.describe()** prints key statistics of a series, including count (number of non-missing values), mean (average), std (standard deviation), min, max, and quantiles (typically at 25%, 50%, 75%. 50% quantile is also called as median).\n",
    "\n",
    "> * Function **pandas.Series.unique()** prints unique values in a Series. Typically used for categorical variables.\n",
    "\n",
    "> * Function **pandas.Series.value_counts()** prints unique values and corresponding count in a Series. Also commonly used for categorical variables.\n",
    "\n",
    "Let's start with `.describe()`. Run the following command into your iPython console."
   ]
  },
  {
   "cell_type": "code",
   "execution_count": 2,
   "metadata": {},
   "outputs": [
    {
     "name": "stdout",
     "output_type": "stream",
     "text": [
      "count    7279.000000\n",
      "mean       59.150845\n",
      "std        16.516400\n",
      "min         0.000000\n",
      "25%        47.000000\n",
      "50%        60.000000\n",
      "75%        73.000000\n",
      "max        87.000000\n",
      "Name: DemAge, dtype: float64\n"
     ]
    }
   ],
   "source": [
    "# describe key statistics from DemAge column\n",
    "print(df['DemAge'].describe())"
   ]
  },
  {
   "cell_type": "markdown",
   "metadata": {},
   "source": [
    "To check the unique values and how many records for each value, we could use `.unique()` and `.value_counts()` functions."
   ]
  },
  {
   "cell_type": "code",
   "execution_count": 3,
   "metadata": {},
   "outputs": [
    {
     "name": "stdout",
     "output_type": "stream",
     "text": [
      "[ nan  67.  53.  47.  58.  39.  50.  45.  80.  61.  76.  41.  75.  59.  51.\n",
      "  31.  54.  70.  42.  65.  81.  38.  56.  69.  52.  33.  73.  71.  29.  60.\n",
      "  83.  43.  35.  77.  44.  72.  64.  34.  55.  37.  57.  46.  49.  32.  66.\n",
      "  87.  40.  79.  25.  63.  62.  48.  68.  86.  23.  27.  74.  78.  85.  26.\n",
      "   7.  36.  82.  24.  17.  30.  84.  21.  28.  22.  19.  16.  14.   6.   0.\n",
      "   2.  20.  18.  15.   4.]\n"
     ]
    }
   ],
   "source": [
    "# unique values in DemAge\n",
    "print(df['DemAge'].unique())"
   ]
  },
  {
   "cell_type": "code",
   "execution_count": 4,
   "metadata": {},
   "outputs": [
    {
     "name": "stdout",
     "output_type": "stream",
     "text": [
      "73.0    216\n",
      "67.0    215\n",
      "75.0    203\n",
      "49.0    201\n",
      "57.0    187\n",
      "77.0    183\n",
      "55.0    182\n",
      "65.0    181\n",
      "47.0    179\n",
      "69.0    178\n",
      "71.0    173\n",
      "51.0    167\n",
      "79.0    165\n",
      "45.0    164\n",
      "74.0    162\n",
      "53.0    152\n",
      "59.0    150\n",
      "76.0    139\n",
      "43.0    138\n",
      "63.0    138\n",
      "81.0    136\n",
      "61.0    136\n",
      "50.0    131\n",
      "37.0    125\n",
      "41.0    124\n",
      "78.0    123\n",
      "80.0    123\n",
      "72.0    122\n",
      "70.0    116\n",
      "68.0    116\n",
      "       ... \n",
      "84.0     70\n",
      "27.0     69\n",
      "86.0     68\n",
      "33.0     65\n",
      "31.0     59\n",
      "36.0     57\n",
      "38.0     53\n",
      "17.0     46\n",
      "34.0     42\n",
      "29.0     33\n",
      "7.0      32\n",
      "32.0     31\n",
      "30.0     24\n",
      "26.0     19\n",
      "28.0     19\n",
      "25.0     17\n",
      "23.0     12\n",
      "22.0      7\n",
      "24.0      6\n",
      "16.0      5\n",
      "21.0      5\n",
      "19.0      4\n",
      "6.0       3\n",
      "14.0      1\n",
      "0.0       1\n",
      "2.0       1\n",
      "20.0      1\n",
      "4.0       1\n",
      "18.0      1\n",
      "15.0      1\n",
      "Name: DemAge, Length: 79, dtype: int64\n"
     ]
    }
   ],
   "source": [
    "# print number of occurences for each unique value in DemAge\n",
    "print(df['DemAge'].value_counts())"
   ]
  },
  {
   "cell_type": "markdown",
   "metadata": {},
   "source": [
    "When dealing with interval variables, typically binning (categorising values into certain ranges) is very common to allow easier interpretation. In pandas, we can do this by supplying `bins` parameter into the `.value_counts()` function."
   ]
  },
  {
   "cell_type": "code",
   "execution_count": 5,
   "metadata": {},
   "outputs": [
    {
     "name": "stdout",
     "output_type": "stream",
     "text": [
      "(69.6, 78.3]     1437\n",
      "(60.9, 69.6]     1250\n",
      "(43.5, 52.2]     1223\n",
      "(52.2, 60.9]     1043\n",
      "(78.3, 87.0]      932\n",
      "(34.8, 43.5]      889\n",
      "(26.1, 34.8]      342\n",
      "(17.4, 26.1]       72\n",
      "(8.7, 17.4]        53\n",
      "(-0.088, 8.7]      38\n",
      "Name: DemAge, dtype: int64\n"
     ]
    }
   ],
   "source": [
    "# similar with above, but binned into 10 range bins for easier interpretation\n",
    "print(df['DemAge'].value_counts(bins=10))"
   ]
  },
  {
   "cell_type": "markdown",
   "metadata": {},
   "source": [
    "The output of these functions revealed a number of data problems with \"DemAge\" column.\n",
    "1. There are only **7279** records in \"DemAge\" column (from `.describe()`'s count output), while the total number of records in this data set is **9686**. This indicates missing values in \"DemAge\". This observation is also visible through the NaN printed by `.unique()` method.\n",
    "2. One record in \"DemAge\" has 0 as value (from the `.value_counts()` output). Logically, someone should not have age of 0. It indicates an errorneous data that needs to be removed from this column.\n",
    "\n",
    "These problems need to be rectified before building data mining models. We will learn the techniques to fix data issues later in section 3.\n",
    "\n",
    "Could you spot data problems in other columns using ```.describe()```, ```.unique()``` and ```.value_counts()```?"
   ]
  },
  {
   "cell_type": "code",
   "execution_count": 3,
   "metadata": {},
   "outputs": [
    {
     "name": "stdout",
     "output_type": "stream",
     "text": [
      "count    4843.000000\n",
      "mean       15.624344\n",
      "std        12.445137\n",
      "min         1.000000\n",
      "25%        10.000000\n",
      "50%        13.000000\n",
      "75%        20.000000\n",
      "max       200.000000\n",
      "Name: TargetD, dtype: float64\n"
     ]
    }
   ],
   "source": [
    "print(df['TargetD'].describe())"
   ]
  },
  {
   "cell_type": "code",
   "execution_count": 4,
   "metadata": {},
   "outputs": [
    {
     "name": "stdout",
     "output_type": "stream",
     "text": [
      "[   nan   4.    10.    11.    40.     6.    20.    50.     5.    15.\n",
      "  12.    25.    30.    45.     7.     8.    12.5   35.     3.    32.\n",
      "  13.    14.    26.    16.    23.    19.    18.    17.5   16.87  21.\n",
      "  17.     1.     9.    38.     2.    24.   100.    22.   200.    41.\n",
      "  28.    60.    33.    37.    47.   150.    31.    75.    27.    18.25\n",
      "  29.    36.    51.    34.    46.    44.    42.    48.     2.5   43.\n",
      "  53.     7.5    5.25  55.    95.     4.5   44.21 101.    13.92  10.7\n",
      " 102.  ]\n"
     ]
    }
   ],
   "source": [
    "print(df['TargetD'].unique())"
   ]
  },
  {
   "cell_type": "code",
   "execution_count": 5,
   "metadata": {},
   "outputs": [
    {
     "name": "stdout",
     "output_type": "stream",
     "text": [
      "(0.8, 20.9]       3893\n",
      "(20.9, 40.8]       811\n",
      "(40.8, 60.7]       102\n",
      "(80.6, 100.5]       23\n",
      "(60.7, 80.6]         7\n",
      "(180.1, 200.0]       4\n",
      "(100.5, 120.4]       2\n",
      "(140.3, 160.2]       1\n",
      "(160.2, 180.1]       0\n",
      "(120.4, 140.3]       0\n",
      "Name: TargetD, dtype: int64\n"
     ]
    }
   ],
   "source": [
    "print(df['TargetD'].value_counts(bins = 10))"
   ]
  },
  {
   "cell_type": "markdown",
   "metadata": {},
   "source": [
    "### 2.2. Grouping and plotting distributions of columns\n",
    "\n",
    "From the previous section, you have revealed some issues with each column in this dataset. This is not enough, however, as we also need to look into interaction between two or more variables. In addition, plotting distribution of data column(s) might produce more insights on the problems in this data.\n",
    "\n",
    "Grouping is commonly used to see whether there is a trend between two or more different fields. For example, we would like to know specific correlations between tendency to be a lapsing donor (TargetB) and age (DemAge), gender (DemGender) or median home value (DemMedHomeValue). In pandas, grouping can be performed using the `.groupby()` method. `.groupby()` will returned a grouped Series, which we can run `value_counts()`, `mean()`, `.median()` and many other Series functions on.\n",
    "\n",
    "Let's start with age (DemAge). Run the following command to get the average age of lapsing donors vs non-lapsing donors."
   ]
  },
  {
   "cell_type": "code",
   "execution_count": 6,
   "metadata": {},
   "outputs": [
    {
     "name": "stdout",
     "output_type": "stream",
     "text": [
      "TargetB\n",
      "0    58.304444\n",
      "1    59.979070\n",
      "Name: DemAge, dtype: float64\n"
     ]
    }
   ],
   "source": [
    "# get the average age of donors, grouped by their lapsing information\n",
    "print(df.groupby(['TargetB'])['DemAge'].mean())"
   ]
  },
  {
   "cell_type": "markdown",
   "metadata": {},
   "source": [
    "The average age of lapsing donors is slightly higher than the non-lapsing donors.\n",
    "\n",
    "Other than `.mean()`, we could also perform grouping with other method such as `.value_counts()` or `.median()`. Use `value_counts()` to get gender of lapsing and non-lapsing donors."
   ]
  },
  {
   "cell_type": "code",
   "execution_count": 7,
   "metadata": {},
   "outputs": [
    {
     "name": "stdout",
     "output_type": "stream",
     "text": [
      "Raw count of genders of lapsing and non-lapsing donors\n",
      "TargetB  DemGender\n",
      "0        F            2614\n",
      "         M            1963\n",
      "         U             266\n",
      "1        F            2609\n",
      "         M            1962\n",
      "         U             272\n",
      "Name: DemGender, dtype: int64\n",
      "------------------\n",
      "Normalised count (percentage) of genders of lapsing and non-lapsing donors\n",
      "TargetB  DemGender\n",
      "0        F            0.539748\n",
      "         M            0.405327\n",
      "         U            0.054925\n",
      "1        F            0.538716\n",
      "         M            0.405121\n",
      "         U            0.056164\n",
      "Name: DemGender, dtype: float64\n"
     ]
    }
   ],
   "source": [
    "# get the value count of each gender\n",
    "print(\"Raw count of genders of lapsing and non-lapsing donors\")\n",
    "print(df.groupby(['TargetB'])['DemGender'].value_counts())\n",
    "\n",
    "print(\"------------------\")\n",
    "\n",
    "# add normalisation to get the relative frequency\n",
    "print(\"Normalised count (percentage) of genders of lapsing and non-lapsing donors\")\n",
    "print(df.groupby(['TargetB'])['DemGender'].value_counts(normalize=True))"
   ]
  },
  {
   "cell_type": "markdown",
   "metadata": {},
   "source": [
    "It seems there is an equal proportion of female/male/unknown gender donors in both lapsing and non-lapsing donors.\n",
    "\n",
    "While all of the methods we have used so far are very useful in providing information about the data, data mining professionals commonly visualise these information in plots for easier presentation. In Python, there are many libraries to draw great data plots, such as `matplotlib`, `seaborn`, `ggplot`, `plotly` and `bokeh`. In this unit, we will use `seaborn` and `matplotlib`, two of the most popular visualisation libraries. Import both of them with the following command."
   ]
  },
  {
   "cell_type": "code",
   "execution_count": 8,
   "metadata": {
    "collapsed": true
   },
   "outputs": [],
   "source": [
    "import matplotlib.pyplot as plt\n",
    "import seaborn as sns"
   ]
  },
  {
   "cell_type": "markdown",
   "metadata": {},
   "source": [
    "Plotting the distribution values in a field/column is a common visualization task. A number options exist in seaborn/matplotlib. For interval/numerical variables, `distplot` can be used. Let's try that for \"DemAge\". `distplot` is\n",
    "sensitive towards missing values (which are present in \"DemAge\"), thus we have to drop them using `dropna()` method."
   ]
  },
  {
   "cell_type": "code",
   "execution_count": 9,
   "metadata": {},
   "outputs": [
    {
     "data": {
      "image/png": "[encoded data removed]",
      "text/plain": [
       "<matplotlib.figure.Figure at 0xc3fbe80>"
      ]
     },
     "metadata": {},
     "output_type": "display_data"
    }
   ],
   "source": [
    "# dropna is used because 'DemAge' has missing values\n",
    "dg = sns.distplot(df['DemAge'].dropna())\n",
    "plt.show()"
   ]
  },
  {
   "cell_type": "markdown",
   "metadata": {},
   "source": [
    "From the plot above, we can see most donors are between 40-80 years old, with the data distribution skewed to right.\n",
    "\n",
    "Distribution plots are typically use only for interval/numerical variables. For nominal/categorical variables, such as `DemGender`, `countplot` is used to build a bar chart to show distribution of each values."
   ]
  },
  {
   "cell_type": "code",
   "execution_count": 10,
   "metadata": {},
   "outputs": [
    {
     "data": {
      "image/png": "[encoded data removed]",
      "text/plain": [
       "<matplotlib.figure.Figure at 0x9c276a0>"
      ]
     },
     "metadata": {},
     "output_type": "display_data"
    }
   ],
   "source": [
    "dg = sns.countplot(data=df, x='DemGender')\n",
    "plt.show()"
   ]
  },
  {
   "cell_type": "markdown",
   "metadata": {},
   "source": [
    "Lastly, we can explore the distribution of a variable using `boxplot`. Assume we would like to see the difference of home values of the donors vs non-donors. We can build a boxplot with `TargetB` as X and `DemMedHomeValue` as y.\n",
    "\n",
    "> For more information on how to read box plot, read here:\n",
    "> * http://www.statisticshowto.com/how-to-read-a-box-plot/\n",
    "> * https://flowingdata.com/2008/02/15/how-to-read-and-use-a-box-and-whisker-plot/\n"
   ]
  },
  {
   "cell_type": "code",
   "execution_count": 11,
   "metadata": {},
   "outputs": [
    {
     "data": {
      "image/png": "[encoded data removed]",
      "text/plain": [
       "<matplotlib.figure.Figure at 0x52145f8>"
      ]
     },
     "metadata": {},
     "output_type": "display_data"
    }
   ],
   "source": [
    "ax = sns.boxplot(x=\"TargetB\", y=\"DemMedHomeValue\", data=df)\n",
    "plt.show()"
   ]
  },
  {
   "cell_type": "markdown",
   "metadata": {},
   "source": [
    "The boxplot shows a slight difference of home values of lapsing and non-lapsing donors. Lapsing donors have slightly higher average and maximum home value, sign of affluence and wealth.\n",
    "\n",
    "Could you visualize other columns using `distplot`, `countplot` and `boxplot`?\n",
    "\n",
    "With practice, you should be able to master exploration and visualisation skill, to use specific functions suited best for a particular field."
   ]
  },
  {
   "cell_type": "markdown",
   "metadata": {},
   "source": [
    "## 3. Modifying and Correcting Data<a name=\"moddata\"></a>\n",
    "\n",
    "Data exploration, grouping and plotting that we performed in the previous section reveal the following problems in the dataset:\n",
    "1. Incorrect type used for `DemCluster` and `DemHomeOwner`. `DemCluster` should be an categorical/nominal variable and `DemHomeOwner` should be a binary variable.\n",
    "2. Errorneous/invalid values (0) in `DemMedIncome` and `DemAge`.\n",
    "3. Missing values in `DemAge`, `DemMedIncome`, `GiftAvgCard36`.\n",
    "4. Redundant variables in `ID` and `TargetD`.\n",
    "\n",
    "We will now rectify these problems.\n",
    "\n",
    "### 3.1. Setting correct type to variables\n",
    "\n",
    "The first correction to perform is changing incorrect data types. `DemCluster` should be changed from interval (number) into categorical variable (typically represented with string). Data type of a pandas Series can be changed by simply typecasting it."
   ]
  },
  {
   "cell_type": "code",
   "execution_count": 12,
   "metadata": {
    "collapsed": true
   },
   "outputs": [],
   "source": [
    "# change DemCluster from interval/integer to nominal/str\n",
    "df['DemCluster'] = df['DemCluster'].astype(str)"
   ]
  },
  {
   "cell_type": "markdown",
   "metadata": {},
   "source": [
    "Next, we have to fix `DemHomeOwner`.`.value_counts()` shows the unique values in `DemHomeOwner`."
   ]
  },
  {
   "cell_type": "code",
   "execution_count": 13,
   "metadata": {},
   "outputs": [
    {
     "data": {
      "text/plain": [
       "H    5377\n",
       "U    4309\n",
       "Name: DemHomeOwner, dtype: int64"
      ]
     },
     "execution_count": 13,
     "metadata": {},
     "output_type": "execute_result"
    }
   ],
   "source": [
    "df['DemHomeOwner'].value_counts()"
   ]
  },
  {
   "cell_type": "markdown",
   "metadata": {},
   "source": [
    "`DemHomeOwner` is a variable denoting whether a person is a homeowner or not (U = not having a house, H = having a house). When there are only two possible values in a variable (e.g. yes/no, female/male), it is recommended to format the variable as 0/1 binary variable. We will apply this transformation to our `DemHomeOwner` using `.map()` function, which map value \"U\" to 0 and \"H\" to 1."
   ]
  },
  {
   "cell_type": "code",
   "execution_count": 14,
   "metadata": {
    "collapsed": true
   },
   "outputs": [],
   "source": [
    "# change DemHomeOwner into binary 0/1 variable\n",
    "dem_home_owner_map = {'U':0, 'H': 1}\n",
    "df['DemHomeOwner'] = df['DemHomeOwner'].map(dem_home_owner_map)"
   ]
  },
  {
   "cell_type": "markdown",
   "metadata": {},
   "source": [
    "### 3.2. Correcting invalid values\n",
    "\n",
    "The next step in cleaning our dataset is to correct invalid values in `DemMedIncome`. A `.value_counts()` reveals a large number of 0 values, which for an income data is logically impossible."
   ]
  },
  {
   "cell_type": "code",
   "execution_count": 15,
   "metadata": {},
   "outputs": [
    {
     "data": {
      "text/plain": [
       "0         2357\n",
       "43100       10\n",
       "46250        8\n",
       "72339        8\n",
       "48772        8\n",
       "67860        7\n",
       "73833        7\n",
       "49277        7\n",
       "57164        7\n",
       "40054        7\n",
       "65906        6\n",
       "68819        6\n",
       "44829        6\n",
       "64579        6\n",
       "65288        6\n",
       "49337        6\n",
       "55991        6\n",
       "49601        6\n",
       "56828        6\n",
       "34619        6\n",
       "87665        6\n",
       "36250        6\n",
       "59357        6\n",
       "50000        6\n",
       "97480        6\n",
       "38750        6\n",
       "80929        6\n",
       "47580        6\n",
       "47308        6\n",
       "47076        6\n",
       "          ... \n",
       "31820        1\n",
       "50251        1\n",
       "43867        1\n",
       "35906        1\n",
       "42047        1\n",
       "59202        1\n",
       "45928        1\n",
       "48244        1\n",
       "62589        1\n",
       "42207        1\n",
       "46261        1\n",
       "45816        1\n",
       "50395        1\n",
       "102368       1\n",
       "44238        1\n",
       "76547        1\n",
       "40136        1\n",
       "56512        1\n",
       "60598        1\n",
       "64265        1\n",
       "41770        1\n",
       "46245        1\n",
       "43787        1\n",
       "33947        1\n",
       "52370        1\n",
       "40080        1\n",
       "29464        1\n",
       "51999        1\n",
       "72485        1\n",
       "41000        1\n",
       "Name: DemMedIncome, Length: 4463, dtype: int64"
      ]
     },
     "execution_count": 15,
     "metadata": {},
     "output_type": "execute_result"
    }
   ],
   "source": [
    "df['DemMedIncome'].value_counts()"
   ]
  },
  {
   "cell_type": "markdown",
   "metadata": {
    "collapsed": true
   },
   "source": [
    "To remove these errorneous values, we first have to create a filter to denote which row has invalid value. Here, we want to filter out any `DemMedIncome` with value less than 1. Let's create a mask based on that."
   ]
  },
  {
   "cell_type": "code",
   "execution_count": 16,
   "metadata": {
    "collapsed": true
   },
   "outputs": [],
   "source": [
    "# denote errorneous values in DemMidIncome\n",
    "mask = df['DemMedIncome'] < 1"
   ]
  },
  {
   "cell_type": "markdown",
   "metadata": {},
   "source": [
    "Once we have the mask, we could use `.loc` to replace the errorneous values. As we will impute missing values in the next step, we could just denote zeroes in `DemMedIncome` as missing now. `Pandas` uses `numpy`'s `NaN` as missing value."
   ]
  },
  {
   "cell_type": "code",
   "execution_count": 17,
   "metadata": {
    "collapsed": true
   },
   "outputs": [],
   "source": [
    "import numpy as np\n",
    "df.loc[mask, 'DemMedIncome'] = np.nan"
   ]
  },
  {
   "cell_type": "markdown",
   "metadata": {},
   "source": [
    "### 3.3. Imputing Missing Values\n",
    "\n",
    "Eliminating missing values is very important in building models with `sklearn` as the algorithms in the library do not accept missing values. In this dataset, there are 3 columns with many missing values, `DemAge`, `DemMedIncome` and `GiftAvgCard36`. \n",
    "\n",
    "There are a number of approaches to deal with missing values, each with their own advantages and disadvantages: \n",
    "1. **Removal:** dropping rows/columns with (commonly a certain threshold of) missing values. This approach is suitable when the rows or columns removed has many missing values, thus removing them will not remove important information from the modelling process. However, when missing values only occurs sparsely in many rows/columns, this method trims much needed information from the dataset.\n",
    "\n",
    "2. **Imputation:** filling out missing values with a specific value. Typical simple method is to impute with mean, median or mode of a variable. Recent research suggests the usage of more advanced imputation techniques, such as **multiple imputations** or **interpolation**.\n",
    "\n",
    "3. **Flagging:** creating a new column that which denotes the missing values. The new column is typically binary, with 1 denoting missing value and 0 denoting non-missing value. This approach is used when the missing values are suspected to provide additional information. For example, in a survey about tax, wealthy people might be reluctant to provide their income. Therefore, keeping information of missing values might benefit the analysis.\n",
    "\n",
    "In this tutorial, we will use the imputation method using mean replacement. Imputation in pandas can be performed with `.fillna()` function. We will compute mean value of each column using `.mean()` function from each series."
   ]
  },
  {
   "cell_type": "code",
   "execution_count": 18,
   "metadata": {
    "collapsed": true
   },
   "outputs": [],
   "source": [
    "# impute missing values in DemAge with its mean\n",
    "df['DemAge'].fillna(df['DemAge'].mean(), inplace=True)\n",
    "\n",
    "# impute med income using mean\n",
    "df['DemMedIncome'].fillna(df['DemMedIncome'].mean(), inplace=True)\n",
    "\n",
    "# impute gift avg card 36 using mean\n",
    "df['GiftAvgCard36'].fillna(df['GiftAvgCard36'].mean(), inplace=True)"
   ]
  },
  {
   "cell_type": "markdown",
   "metadata": {},
   "source": [
    "### 3.4. Dropping Unnecessary Variables\n",
    "\n",
    "The next step in this data preprocessing is to drop `ID` and `TargetD`. `sklearn` modelling algorithms do not need information about `ID` to build a model. Meanwhile, `TargetD` is dropped because we will focus on classification task of predicting `TargetB`. `TargetD` can be used in another project focusing on regression."
   ]
  },
  {
   "cell_type": "code",
   "execution_count": 19,
   "metadata": {
    "collapsed": true
   },
   "outputs": [],
   "source": [
    "# drop ID and the unused target variable\n",
    "df.drop(['ID', 'TargetD'], axis=1, inplace=True)"
   ]
  },
  {
   "cell_type": "markdown",
   "metadata": {},
   "source": [
    "### 3.5. Formatting Categorical Variable\n",
    "\n",
    "The last step we need to perform is to convert categorical variables into binary variables. This conversion process is commonly referred as **one-hot encoding**. One-hot encoding is performed in this tutorial because `sklearn` models only accept numerical matrices as input. However, many other modelling framework (e.g. SAS) can work with categorical variables or perform one-hot encoding internally, therefore this step is not always performed.\n",
    "\n",
    "In pandas, one-hot encoding is performed using `.get_dummies()`. An example of this process is given below."
   ]
  },
  {
   "cell_type": "code",
   "execution_count": 20,
   "metadata": {},
   "outputs": [
    {
     "name": "stdout",
     "output_type": "stream",
     "text": [
      "0    F\n",
      "1    F\n",
      "2    M\n",
      "3    M\n",
      "4    M\n",
      "Name: DemGender, dtype: object\n"
     ]
    }
   ],
   "source": [
    "# for gender, before one hot encoding. .head() is used to display first 5 records.\n",
    "print(df['DemGender'].head(5))"
   ]
  },
  {
   "cell_type": "code",
   "execution_count": 21,
   "metadata": {},
   "outputs": [
    {
     "data": {
      "text/html": [
       "<div>\n",
       "<style>\n",
       "    .dataframe thead tr:only-child th {\n",
       "        text-align: right;\n",
       "    }\n",
       "\n",
       "    .dataframe thead th {\n",
       "        text-align: left;\n",
       "    }\n",
       "\n",
       "    .dataframe tbody tr th {\n",
       "        vertical-align: top;\n",
       "    }\n",
       "</style>\n",
       "<table border=\"1\" class=\"dataframe\">\n",
       "  <thead>\n",
       "    <tr style=\"text-align: right;\">\n",
       "      <th></th>\n",
       "      <th>F</th>\n",
       "      <th>M</th>\n",
       "      <th>U</th>\n",
       "    </tr>\n",
       "  </thead>\n",
       "  <tbody>\n",
       "    <tr>\n",
       "      <th>0</th>\n",
       "      <td>1</td>\n",
       "      <td>0</td>\n",
       "      <td>0</td>\n",
       "    </tr>\n",
       "    <tr>\n",
       "      <th>1</th>\n",
       "      <td>1</td>\n",
       "      <td>0</td>\n",
       "      <td>0</td>\n",
       "    </tr>\n",
       "    <tr>\n",
       "      <th>2</th>\n",
       "      <td>0</td>\n",
       "      <td>1</td>\n",
       "      <td>0</td>\n",
       "    </tr>\n",
       "    <tr>\n",
       "      <th>3</th>\n",
       "      <td>0</td>\n",
       "      <td>1</td>\n",
       "      <td>0</td>\n",
       "    </tr>\n",
       "    <tr>\n",
       "      <th>4</th>\n",
       "      <td>0</td>\n",
       "      <td>1</td>\n",
       "      <td>0</td>\n",
       "    </tr>\n",
       "  </tbody>\n",
       "</table>\n",
       "</div>"
      ],
      "text/plain": [
       "   F  M  U\n",
       "0  1  0  0\n",
       "1  1  0  0\n",
       "2  0  1  0\n",
       "3  0  1  0\n",
       "4  0  1  0"
      ]
     },
     "execution_count": 21,
     "metadata": {},
     "output_type": "execute_result"
    }
   ],
   "source": [
    "# after one hot encoding\n",
    "demo_df = pd.get_dummies(df['DemGender'])\n",
    "demo_df.head(5)"
   ]
  },
  {
   "cell_type": "markdown",
   "metadata": {},
   "source": [
    "To perform one-hot encoding on all data, we can simply run `.get_dummies()` on the whole DataFrame. It automatically converts the categorical variables into binary, while excluding the interval variables. The drawback of this process is the number of variables/columns will increase significantly, which adds more complexity to the modelling process."
   ]
  },
  {
   "cell_type": "code",
   "execution_count": 22,
   "metadata": {},
   "outputs": [
    {
     "name": "stdout",
     "output_type": "stream",
     "text": [
      "Before: 26\n",
      "After: 86\n"
     ]
    }
   ],
   "source": [
    "# one hot encoding all categorical variables\n",
    "# all numerical variables are automatically excluded\n",
    "# number of columns after the conversion should increase significantly\n",
    "print(\"Before:\", len(df.columns))\n",
    "\n",
    "# one hot encoding\n",
    "df = pd.get_dummies(df)\n",
    "\n",
    "print(\"After:\", len(df.columns))"
   ]
  },
  {
   "cell_type": "markdown",
   "metadata": {},
   "source": [
    "### 3.6. Wrapping up\n",
    "\n",
    "That is all data preprocessing that we need to perform on this dataset. To make this process easier for next time, it is recommended to wrap all of the code in a function (let's call it `data_prep`). As we will call this function quite frequently in the next practicals, I also suggest you to put it in a file that is accessible from anywhere in our project folder (`dm_tools.py` in this tutorial)."
   ]
  },
  {
   "cell_type": "code",
   "execution_count": 23,
   "metadata": {
    "collapsed": true
   },
   "outputs": [],
   "source": [
    "# dm_tools.py\n",
    "import numpy as np\n",
    "import pandas as pd\n",
    "\n",
    "def data_prep():\n",
    "    # read the veteran dataset\n",
    "    df = pd.read_csv('datasets/veteran.csv')\n",
    "    \n",
    "    # change DemCluster from interval/integer to nominal/str\n",
    "    df['DemCluster'] = df['DemCluster'].astype(str)\n",
    "    \n",
    "    # change DemHomeOwner into binary 0/1 variable\n",
    "    dem_home_owner_map = {'U':0, 'H': 1}\n",
    "    df['DemHomeOwner'] = df['DemHomeOwner'].map(dem_home_owner_map)\n",
    "    \n",
    "    # denote errorneous values in DemMidIncome\n",
    "    mask = df['DemMedIncome'] < 1\n",
    "    df.loc[mask, 'DemMedIncome'] = np.nan\n",
    "    \n",
    "    # impute missing values in DemAge with its mean\n",
    "    df['DemAge'].fillna(df['DemAge'].mean(), inplace=True)\n",
    "\n",
    "    # impute med income using mean\n",
    "    df['DemMedIncome'].fillna(df['DemMedIncome'].mean(), inplace=True)\n",
    "\n",
    "    # impute gift avg card 36 using mean\n",
    "    df['GiftAvgCard36'].fillna(df['GiftAvgCard36'].mean(), inplace=True)\n",
    "    \n",
    "    # drop ID and the unused target variable\n",
    "    df.drop(['ID', 'TargetD'], axis=1, inplace=True)\n",
    "    \n",
    "    df = pd.get_dummies(df)\n",
    "    \n",
    "    return df\n",
    "\n",
    "### we can import it like this for the remaining of the practicals\n",
    "# from dm_tools import data_prep"
   ]
  },
  {
   "cell_type": "markdown",
   "metadata": {},
   "source": [
    "## End notes\n",
    "\n",
    "This practical introduces techniques to perform data cleaning and preprocessing using Python library `pandas`. We also learned basic methods to visualise data distribution using `seaborn` and `matplotlib`. All of the preprocessing steps are wrapped in `dm_tools.data_prep()` to be used in the next practicals."
   ]
  },
  {
   "cell_type": "code",
   "execution_count": null,
   "metadata": {},
   "outputs": [],
   "source": []
  }
 ],
 "metadata": {
  "kernelspec": {
   "display_name": "Python 3",
   "language": "python",
   "name": "python3"
  },
  "language_info": {
   "codemirror_mode": {
    "name": "ipython",
    "version": 3
   },
   "file_extension": ".py",
   "mimetype": "text/x-python",
   "name": "python",
   "nbconvert_exporter": "python",
   "pygments_lexer": "ipython3",
   "version": "3.6.4"
  }
 },
 "nbformat": 4,
 "nbformat_minor": 2
}
