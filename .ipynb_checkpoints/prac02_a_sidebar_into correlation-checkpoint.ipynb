{
 "cells": [
  {
   "cell_type": "markdown",
   "metadata": {},
   "source": [
    "<h1>Visual Inspection of Data</h1>\n",
    "In this side bar, we want to visually examine data.  In the lecture we discussed the idea of correlation between a target and input variables <b>but</b> how could we examine this in python?<br/><br/>\n",
    "The most common graphical method to visualise correlation is to use a scatter plot.  Here, we plot the occurance of 2 variables against each other (the graph will show a point for each value in the data).  So if 2 variables are correlated, there should be a straight line in the scatter.<br/><br/>\n",
    "Lets examine how this can be done with the veteran dataset (how we create a plot), then, lets examine how we can automate the creation of the charts.  This will speed up our analysis."
   ]
  },
  {
   "cell_type": "code",
   "execution_count": null,
   "metadata": {
    "collapsed": true
   },
   "outputs": [],
   "source": [
    "import pandas as pd\n",
    "import matplotlib.pyplot as plt\n",
    "\n",
    "# read the veteran dataset\n",
    "df = pd.read_csv('datasets/veteran.csv')"
   ]
  },
  {
   "cell_type": "markdown",
   "metadata": {},
   "source": [
    "If we look at our dataframe, we'll see that there are lots of numeric fields which could be charted against the a target variable.<br/>\n",
    "<b>Assuming</b> that the value of the contribution is relative to some other field in the data, how might we observe that visually?"
   ]
  },
  {
   "cell_type": "code",
   "execution_count": null,
   "metadata": {},
   "outputs": [],
   "source": [
    "df.info()"
   ]
  },
  {
   "cell_type": "markdown",
   "metadata": {},
   "source": [
    "Lest suppose we want to examine how an attribute (GiftCnt36) relates to another (lets use TargetD) so we create a scatterplot.<br/><br/>"
   ]
  },
  {
   "cell_type": "code",
   "execution_count": null,
   "metadata": {},
   "outputs": [],
   "source": [
    "plt.scatter(df['TargetD'], df['GiftCnt36'])\n",
    "plt.xlabel('TargetD')\n",
    "plt.ylabel('GiftCnt36')\n",
    "plt.title('Scatter TargetD v GiftCnt36')\n",
    "plt.show()"
   ]
  },
  {
   "cell_type": "markdown",
   "metadata": {},
   "source": [
    "What does highly correlated data look like?  Simple, lets look at how the target relates to itself"
   ]
  },
  {
   "cell_type": "code",
   "execution_count": null,
   "metadata": {},
   "outputs": [],
   "source": [
    "plt.scatter(df['TargetD'], df['TargetD'])\n",
    "plt.xlabel('TargetD')\n",
    "plt.ylabel('TargetD')\n",
    "plt.title('Scatter TargetD v TargetD')\n",
    "plt.show()"
   ]
  },
  {
   "cell_type": "markdown",
   "metadata": {},
   "source": [
    "<b>We can bundle the creation of a chart into a function so that we only need to provide it with column names</b>"
   ]
  },
  {
   "cell_type": "code",
   "execution_count": null,
   "metadata": {
    "collapsed": true
   },
   "outputs": [],
   "source": [
    "def makeplot(x, y):\n",
    "    plt.scatter(df[x], df[y])\n",
    "    plt.xlabel(x)\n",
    "    plt.ylabel(y)\n",
    "    plt.title('Scatter ' + x + ' v ' + y)\n",
    "    plt.show()"
   ]
  },
  {
   "cell_type": "code",
   "execution_count": null,
   "metadata": {},
   "outputs": [],
   "source": [
    "makeplot('TargetD', 'GiftCnt36')"
   ]
  },
  {
   "cell_type": "markdown",
   "metadata": {},
   "source": [
    "Now all we need is a list of columns to pass to our function (since we know we are going to target TargetD).  Lets get a list of all numeric columns except for those which we know shouldnt be plotted against our target (say for example becuase the attribute is meaningless)."
   ]
  },
  {
   "cell_type": "code",
   "execution_count": null,
   "metadata": {},
   "outputs": [],
   "source": [
    "cols_numeric = list(df._get_numeric_data().keys())\n",
    "cols_remove = ['TargetB', 'ID', 'TargetD']\n",
    "[cols_numeric.remove(x) for x in cols_remove]"
   ]
  },
  {
   "cell_type": "markdown",
   "metadata": {},
   "source": [
    "what columns are numeric?"
   ]
  },
  {
   "cell_type": "code",
   "execution_count": null,
   "metadata": {},
   "outputs": [],
   "source": [
    "cols_numeric"
   ]
  },
  {
   "cell_type": "markdown",
   "metadata": {},
   "source": [
    "Now we can iterate over each column and see if there are any blindingly obvious correlations"
   ]
  },
  {
   "cell_type": "code",
   "execution_count": null,
   "metadata": {
    "scrolled": false
   },
   "outputs": [],
   "source": [
    "%matplotlib inline\n",
    "plt.rcParams['figure.figsize']=(5,5)\n",
    "for col1 in cols_numeric:\n",
    "    for col2 in cols_numeric:\n",
    "        if col1 != col2:\n",
    "            print(col1, 'v', col2)\n",
    "            makeplot(col1, col2)"
   ]
  },
  {
   "cell_type": "markdown",
   "metadata": {},
   "source": [
    "<h3>Trellis chart (seaborn Pairplot)</h3> Takes the attributes(variables) and x and y axis values and plots a chart for each intersection (you'll see what i mean soon).<br/>\n",
    "The Trellis chart is a generic term is visualisation so let's look at how we can examine multiple-variables in the one image"
   ]
  },
  {
   "cell_type": "code",
   "execution_count": null,
   "metadata": {
    "collapsed": true
   },
   "outputs": [],
   "source": [
    "import seaborn as sns"
   ]
  },
  {
   "cell_type": "code",
   "execution_count": null,
   "metadata": {
    "collapsed": true
   },
   "outputs": [],
   "source": [
    "temp = df.fillna(0)"
   ]
  },
  {
   "cell_type": "code",
   "execution_count": null,
   "metadata": {},
   "outputs": [],
   "source": [
    "temp.head()"
   ]
  },
  {
   "cell_type": "markdown",
   "metadata": {},
   "source": [
    "if we pass a dataframe, the pair plot will plot all columns "
   ]
  },
  {
   "cell_type": "code",
   "execution_count": null,
   "metadata": {},
   "outputs": [],
   "source": [
    "sns.pairplot(temp)\n",
    "plt.show()"
   ]
  },
  {
   "cell_type": "code",
   "execution_count": null,
   "metadata": {},
   "outputs": [],
   "source": [
    "sns.pairplot(temp[['GiftCnt36','GiftCntAll', 'GiftCntCard36', 'GiftCntCardAll', 'GiftAvgLast']], size=3)\n",
    "plt.show()"
   ]
  }
 ],
 "metadata": {
  "kernelspec": {
   "display_name": "Python 3",
   "language": "python",
   "name": "python3"
  },
  "language_info": {
   "codemirror_mode": {
    "name": "ipython",
    "version": 3
   },
   "file_extension": ".py",
   "mimetype": "text/x-python",
   "name": "python",
   "nbconvert_exporter": "python",
   "pygments_lexer": "ipython3",
   "version": "3.6.1"
  }
 },
 "nbformat": 4,
 "nbformat_minor": 2
}
